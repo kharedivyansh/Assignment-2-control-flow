{
 "cells": [
  {
   "cell_type": "markdown",
   "id": "7b0dba39",
   "metadata": {},
   "source": [
    "basic-if-else-statements"
   ]
  },
  {
   "cell_type": "markdown",
   "id": "84ad716c",
   "metadata": {},
   "source": [
    "1. Write a Python program to check if a given number is positive or negative."
   ]
  },
  {
   "cell_type": "code",
   "execution_count": 9,
   "id": "0cc74276",
   "metadata": {},
   "outputs": [
    {
     "name": "stdout",
     "output_type": "stream",
     "text": [
      "enter the number: -8\n",
      "number is negative\n"
     ]
    }
   ],
   "source": [
    "num = int(input(\"enter the number: \"))\n",
    "if(num==0):\n",
    "    print(\"number is zero\")\n",
    "elif(num>0):\n",
    "    print(\"number is positive\")\n",
    "else:\n",
    "    print(\"number is negative\")\n",
    "    "
   ]
  },
  {
   "cell_type": "markdown",
   "id": "95af4103",
   "metadata": {},
   "source": [
    "2. Create a program that determines if a person is eligible to vote based on their age."
   ]
  },
  {
   "cell_type": "code",
   "execution_count": 12,
   "id": "52ecf3c0",
   "metadata": {},
   "outputs": [
    {
     "name": "stdout",
     "output_type": "stream",
     "text": [
      "enter your age: 19\n",
      "you are eligible to vote\n"
     ]
    }
   ],
   "source": [
    "age = int(input(\"enter your age: \")) \n",
    "if(age>=18):\n",
    "    print(\"you are eligible to vote\")\n",
    "else:\n",
    "    print(\"you are not eligible to vote\")\n",
    "    "
   ]
  },
  {
   "cell_type": "markdown",
   "id": "ca9eaf43",
   "metadata": {},
   "source": [
    "3. Develop a program to find the maximum of two numbers using if-else statements."
   ]
  },
  {
   "cell_type": "code",
   "execution_count": 2,
   "id": "e351cc9d",
   "metadata": {},
   "outputs": [
    {
     "name": "stdout",
     "output_type": "stream",
     "text": [
      "enter number1: 188\n",
      "enter number2: 177\n",
      "maximum number is: 188\n"
     ]
    }
   ],
   "source": [
    "number1 = int(input(\"enter number1: \"))\n",
    "number2 = int(input(\"enter number2: \"))\n",
    "maximum = 0\n",
    "if(number1==number2):\n",
    "    print(\"they are equal\")\n",
    "elif(number1>number2):\n",
    "    maximum = number1\n",
    "    print(f\"maximum number is: {maximum}\")\n",
    "else:\n",
    "    maximum = number2\n",
    "    print(f\"maximum number is: {maximum}\")"
   ]
  },
  {
   "cell_type": "markdown",
   "id": "64c23668",
   "metadata": {},
   "source": [
    "4. Write a Python script to classify a given year as a leap year or not."
   ]
  },
  {
   "cell_type": "code",
   "execution_count": 5,
   "id": "5cb50d7a",
   "metadata": {},
   "outputs": [
    {
     "name": "stdout",
     "output_type": "stream",
     "text": [
      "enter the year: 1988\n",
      "the year is a leap year\n"
     ]
    }
   ],
   "source": [
    "#a leap year comes after every 4 years.\n",
    "#that means any year divisible by 4 is leap year.\n",
    "year = int(input(\"enter the year: \"))\n",
    "if(year%4 == 0):\n",
    "    print(\"the year is a leap year\")\n",
    "else:\n",
    "        print(\"the year is not a leap year\")\n",
    "    "
   ]
  },
  {
   "cell_type": "markdown",
   "id": "a9ada42a",
   "metadata": {},
   "source": [
    "5. Create a program that checks whether a character is a vowel or a consonant."
   ]
  },
  {
   "cell_type": "code",
   "execution_count": 18,
   "id": "5001d773",
   "metadata": {},
   "outputs": [
    {
     "name": "stdout",
     "output_type": "stream",
     "text": [
      "Enter a character: i\n",
      "It's a vowel\n"
     ]
    }
   ],
   "source": [
    "vowels = [\"a\", \"e\", \"i\", \"o\", \"u\"]\n",
    "char = input(\"Enter a character: \")\n",
    "\n",
    "if char in vowels:\n",
    "    print(\"It's a vowel\")\n",
    "else:\n",
    "    print(\"It's a consonant\")\n",
    "      "
   ]
  },
  {
   "cell_type": "markdown",
   "id": "dd4ec09b",
   "metadata": {},
   "source": [
    "6. Implement a program to determine whether a given number is even or odd."
   ]
  },
  {
   "cell_type": "code",
   "execution_count": 20,
   "id": "84ef4947",
   "metadata": {},
   "outputs": [
    {
     "name": "stdout",
     "output_type": "stream",
     "text": [
      "enter the number: 7\n",
      "its an odd number\n"
     ]
    }
   ],
   "source": [
    "num = int(input(\"enter the number: \"))\n",
    "if(num%2 == 0):\n",
    "    print(\"its an even number\")\n",
    "else:\n",
    "    print(\"its an odd number\")"
   ]
  },
  {
   "cell_type": "markdown",
   "id": "df641bf2",
   "metadata": {},
   "source": [
    "7. Write a Python function to calculate the absolute value of a number without using the `abs()` function."
   ]
  },
  {
   "cell_type": "code",
   "execution_count": 24,
   "id": "f7fa1cd9",
   "metadata": {},
   "outputs": [
    {
     "name": "stdout",
     "output_type": "stream",
     "text": [
      "enter the number: -11\n"
     ]
    },
    {
     "data": {
      "text/plain": [
       "11"
      ]
     },
     "execution_count": 24,
     "metadata": {},
     "output_type": "execute_result"
    }
   ],
   "source": [
    "#The absolute value (or modulus) | x | of a real number x is the non-negative value of x without regard to its sign. For example, the absolute value of 5 is 5, and the absolute value of −5 is also 5\n",
    "num = int(input(\"enter the number: \"))\n",
    "abs(num)"
   ]
  },
  {
   "cell_type": "markdown",
   "id": "4e54cac7",
   "metadata": {},
   "source": [
    "8. Develop a program that determines the largest of three given numbers using if-else statements."
   ]
  },
  {
   "cell_type": "code",
   "execution_count": 25,
   "id": "a126c3aa",
   "metadata": {},
   "outputs": [
    {
     "name": "stdout",
     "output_type": "stream",
     "text": [
      "enter number1: 18\n",
      "enter number2: 16\n",
      "enter number3: 15\n",
      "18\n"
     ]
    }
   ],
   "source": [
    "number1 = int(input(\"enter number1: \"))\n",
    "number2 = int(input(\"enter number2: \"))\n",
    "number3 = int(input(\"enter number3: \"))\n",
    "if(number1>number2) and (number1>number3):\n",
    "    print(number1)\n",
    "elif(number2>number1) and (number2>number3):\n",
    "    print(number2)\n",
    "else:\n",
    "    print(number3)\n"
   ]
  },
  {
   "cell_type": "markdown",
   "id": "e9912b9c",
   "metadata": {},
   "source": [
    "9. Create a program that checks if a given string is a palindrome."
   ]
  },
  {
   "cell_type": "code",
   "execution_count": 29,
   "id": "c0510a54",
   "metadata": {},
   "outputs": [
    {
     "name": "stdout",
     "output_type": "stream",
     "text": [
      "enter the string: madam\n",
      "given string is a palindrome\n"
     ]
    }
   ],
   "source": [
    "#a palindrome is a word which reads same from forward and backward, for eg: madam , radar.\n",
    "input_string = input(\"enter the string: \")\n",
    "reverse_string = input_string[::-1] #reverse the input string\n",
    "if(input_string == reverse_string):\n",
    "    print(\"given string is a palindrome\")\n",
    "else:\n",
    "     print(\"given string is not a palindrome\")\n",
    "    "
   ]
  },
  {
   "cell_type": "markdown",
   "id": "39c44e19",
   "metadata": {},
   "source": [
    "10. Write a Python program to calculate the grade based on a student's score."
   ]
  },
  {
   "cell_type": "code",
   "execution_count": 7,
   "id": "3e4d5d63",
   "metadata": {},
   "outputs": [
    {
     "name": "stdout",
     "output_type": "stream",
     "text": [
      "enter your scores: 85\n",
      "you have grade B\n"
     ]
    }
   ],
   "source": [
    "#we have divided scores in different categories.\n",
    "# A - students who have more then 90 , B toh those who have between 80-90 and so on\n",
    "scores = int(input(\"enter your scores: \")) \n",
    "if(scores>=90):\n",
    "    print(\"you have grade A\")\n",
    "elif(90>scores>=80):\n",
    "    print(\"you have grade B\")\n",
    "elif(80>scores>=70):\n",
    "    print(\"you have grade C\")\n",
    "elif(70>scores>=60):\n",
    "    print(\"you have grade D\")\n",
    "elif(60>scores>=50):\n",
    "    print(\"you have grade E\")\n",
    "elif(50>scores):\n",
    "    print(\"you have failed in the exams\")\n",
    "\n",
    "    "
   ]
  },
  {
   "cell_type": "markdown",
   "id": "2f5ee5e8",
   "metadata": {},
   "source": [
    "Nested If-Else Statements:"
   ]
  },
  {
   "cell_type": "markdown",
   "id": "621b8147",
   "metadata": {},
   "source": [
    "11. Write a program to find the largest among three numbers using nested if-else statements."
   ]
  },
  {
   "cell_type": "code",
   "execution_count": 8,
   "id": "90a699f1",
   "metadata": {},
   "outputs": [
    {
     "name": "stdout",
     "output_type": "stream",
     "text": [
      "enter number1: 99\n",
      "enter number2: 100\n",
      "enter number3: 65\n",
      "100\n"
     ]
    }
   ],
   "source": [
    "number1 = int(input(\"enter number1: \"))\n",
    "number2 = int(input(\"enter number2: \"))\n",
    "number3 = int(input(\"enter number3: \"))\n",
    "if(number1>number2) and (number1>number3):\n",
    "    print(number1)\n",
    "elif(number2>number1) and (number2>number3):\n",
    "    print(number2)\n",
    "else:\n",
    "    print(number3)"
   ]
  },
  {
   "cell_type": "markdown",
   "id": "c9330c5c",
   "metadata": {},
   "source": [
    "12. Implement a program to determine if a triangle is equilateral, isosceles, or scalene."
   ]
  },
  {
   "cell_type": "code",
   "execution_count": 14,
   "id": "4beaa135",
   "metadata": {},
   "outputs": [
    {
     "name": "stdout",
     "output_type": "stream",
     "text": [
      "enter side of traingle: 10\n",
      "enter side of triangle: 10\n",
      "enter side of triangle: 10\n",
      "its an equilateral triangle\n"
     ]
    }
   ],
   "source": [
    "#an equilateral traingle has all equal sides\n",
    "#an isosceles traingle has 2 equal sides.\n",
    "#an scalene triangle has all sides different.\n",
    "side1 = int(input(\"enter side of traingle: \"))\n",
    "side2 = int(input(\"enter side of triangle: \"))\n",
    "side3 = int(input(\"enter side of triangle: \"))\n",
    "if(side1 == side2 == side3):\n",
    "    print(\"its an equilateral triangle\")\n",
    "elif(side1 == side2) or (side1 == side3) or (side2 == side3):\n",
    "    print(\"its an isosceles triangle\")\n",
    "else:\n",
    "    print(\"its an scalene triangle\")\n",
    "    \n",
    "    "
   ]
  },
  {
   "cell_type": "markdown",
   "id": "ea0e6785",
   "metadata": {},
   "source": [
    "13. Develop a program that checks if a year is a leap year and also if it is a century year."
   ]
  },
  {
   "cell_type": "code",
   "execution_count": 18,
   "id": "01545772",
   "metadata": {},
   "outputs": [
    {
     "name": "stdout",
     "output_type": "stream",
     "text": [
      "Enter a year: 2000\n",
      "2000 is a leap year.\n",
      "2000 is a century year.\n"
     ]
    }
   ],
   "source": [
    "# Input a year from the user\n",
    "year = int(input(\"Enter a year: \"))\n",
    "\n",
    "# Check if it's a leap year\n",
    "if (year % 4 == 0 and year % 100 != 0) or (year % 400 == 0):\n",
    "    print(f\"{year} is a leap year.\")\n",
    "else:\n",
    "    print(f\"{year} is not a leap year.\")\n",
    "\n",
    "# Check if it's a century year\n",
    "if year % 100 == 0:\n",
    "    print(f\"{year} is a century year.\")\n",
    "else:\n",
    "    print(f\"{year} is not a century year.\")\n"
   ]
  },
  {
   "cell_type": "markdown",
   "id": "b901a63c",
   "metadata": {},
   "source": [
    "14. Write a Python script to determine if a number is positive, negative, or zero."
   ]
  },
  {
   "cell_type": "code",
   "execution_count": 19,
   "id": "94df29a5",
   "metadata": {},
   "outputs": [
    {
     "name": "stdout",
     "output_type": "stream",
     "text": [
      "Enter a number: 15\n",
      "The number is positive.\n"
     ]
    }
   ],
   "source": [
    "# Input a number from the user\n",
    "number = float(input(\"Enter a number: \"))\n",
    "\n",
    "# Check if the number is positive, negative, or zero\n",
    "if number > 0:\n",
    "    print(\"The number is positive.\")\n",
    "elif number < 0:\n",
    "    print(\"The number is negative.\")\n",
    "else:\n",
    "    print(\"The number is zero.\")\n"
   ]
  },
  {
   "cell_type": "markdown",
   "id": "3132e2b0",
   "metadata": {},
   "source": [
    "15. Create a program to check if a person is a teenager (between 13 and 19 years old)."
   ]
  },
  {
   "cell_type": "code",
   "execution_count": 20,
   "id": "0878811d",
   "metadata": {},
   "outputs": [
    {
     "name": "stdout",
     "output_type": "stream",
     "text": [
      "Enter your age: 18\n",
      "you are a teenager\n"
     ]
    }
   ],
   "source": [
    "age = int(input(\"Enter your age: \"))\n",
    "if(19>age>13):\n",
    "    print(\"you are a teenager\")\n",
    "else:\n",
    "    print(\"you are not a teenager\")\n",
    "    "
   ]
  },
  {
   "cell_type": "markdown",
   "id": "fcdd4fbc",
   "metadata": {},
   "source": [
    "16. Develop a program that determines the type of angle based on its measure (acute, obtuse, or right)."
   ]
  },
  {
   "cell_type": "code",
   "execution_count": 21,
   "id": "86adaca5",
   "metadata": {},
   "outputs": [
    {
     "name": "stdout",
     "output_type": "stream",
     "text": [
      "Enter the angle measure in degrees: 45\n",
      "This is an acute angle.\n"
     ]
    }
   ],
   "source": [
    "# Input the angle measure from the user\n",
    "angle_measure = float(input(\"Enter the angle measure in degrees: \"))\n",
    "\n",
    "# Check the type of angle\n",
    "if angle_measure < 90:\n",
    "    print(\"This is an acute angle.\")\n",
    "elif angle_measure == 90:\n",
    "    print(\"This is a right angle.\")\n",
    "elif angle_measure > 90 and angle_measure < 180:\n",
    "    print(\"This is an obtuse angle.\")\n",
    "else:\n",
    "    print(\"This is neither acute, right, nor obtuse.\")\n"
   ]
  },
  {
   "cell_type": "markdown",
   "id": "2dc62aff",
   "metadata": {},
   "source": [
    "17. Write a Python program to calculate the roots of a quadratic equation."
   ]
  },
  {
   "cell_type": "code",
   "execution_count": 24,
   "id": "c6491beb",
   "metadata": {},
   "outputs": [
    {
     "name": "stdout",
     "output_type": "stream",
     "text": [
      "Enter a number: 64\n",
      "8.0\n"
     ]
    }
   ],
   "source": [
    "num = int(input(\"Enter a number: \"))\n",
    "root = num**0.5\n",
    "print(root)"
   ]
  },
  {
   "cell_type": "markdown",
   "id": "0848a4df",
   "metadata": {},
   "source": [
    "18. Implement a program to determine the day of the week based on a user-provided number (1 for Monday, 2\n",
    "for Tuesday, etc.)."
   ]
  },
  {
   "cell_type": "code",
   "execution_count": 25,
   "id": "39e263dd",
   "metadata": {},
   "outputs": [
    {
     "name": "stdout",
     "output_type": "stream",
     "text": [
      "Enter a number (1 for Monday, 2 for Tuesday, etc.): 5\n",
      "The day corresponding to 5 is Friday.\n"
     ]
    }
   ],
   "source": [
    "# Input a number from the user (1 for Monday, 2 for Tuesday, etc.)\n",
    "day_number = int(input(\"Enter a number (1 for Monday, 2 for Tuesday, etc.): \"))\n",
    "\n",
    "# Create a list of days of the week\n",
    "days_of_week = [\"Monday\", \"Tuesday\", \"Wednesday\", \"Thursday\", \"Friday\", \"Saturday\", \"Sunday\"]\n",
    "\n",
    "# Check if the input number is valid\n",
    "if day_number >= 1 and day_number <= 7:\n",
    "    day_name = days_of_week[day_number - 1]\n",
    "    print(f\"The day corresponding to {day_number} is {day_name}.\")\n",
    "else:\n",
    "    print(\"Invalid input. Please enter a number between 1 and 7.\")\n"
   ]
  },
  {
   "cell_type": "markdown",
   "id": "1b562f5a",
   "metadata": {},
   "source": [
    "19. Create a program that determines if a year is a leap year and also if it is evenly divisible by 400."
   ]
  },
  {
   "cell_type": "code",
   "execution_count": 26,
   "id": "b9514f2c",
   "metadata": {},
   "outputs": [
    {
     "name": "stdout",
     "output_type": "stream",
     "text": [
      "Enter a year: 1988\n",
      "1988 is a leap year.\n"
     ]
    }
   ],
   "source": [
    "# Input a year from the user\n",
    "year = int(input(\"Enter a year: \"))\n",
    "\n",
    "# Check if it's a leap year and evenly divisible by 400\n",
    "if (year % 4 == 0 and year % 100 != 0) or (year % 400 == 0):\n",
    "    print(f\"{year} is a leap year.\")\n",
    "    if year % 400 == 0:\n",
    "        print(f\"{year} is also evenly divisible by 400.\")\n",
    "else:\n",
    "    print(f\"{year} is not a leap year.\")\n"
   ]
  },
  {
   "cell_type": "markdown",
   "id": "35e908f0",
   "metadata": {},
   "source": [
    "20. Develop a program that checks if a given number is prime or not using nested if-else statements."
   ]
  },
  {
   "cell_type": "code",
   "execution_count": 9,
   "id": "aee76d84",
   "metadata": {},
   "outputs": [
    {
     "name": "stdout",
     "output_type": "stream",
     "text": [
      "enter the number: 7\n",
      "the 7 is a prime number.\n"
     ]
    }
   ],
   "source": [
    "#a prime  number is divided by itself and 1 only.\n",
    "num = int(input(\"enter the number: \"))\n",
    "if(num<= 1):\n",
    "    is_prime = False\n",
    "elif(num== 2): #2 is a prime number\n",
    "    is_prime = True\n",
    "else:\n",
    "    is_prime = True\n",
    "    for i in range(2,int(num**0.5+1)): #condition applied to check for prime number.\n",
    "        if(num%i == 0):\n",
    "            is_prime = False\n",
    "        \n",
    "if(is_prime == True):\n",
    "    print(f\"the {num} is a prime number.\")\n",
    "else:\n",
    "    print(f\"{num} is not a prime number.\")\n",
    "        \n",
    "    \n"
   ]
  },
  {
   "cell_type": "markdown",
   "id": "c575a9ad",
   "metadata": {},
   "source": [
    "Elif Statements:"
   ]
  },
  {
   "cell_type": "markdown",
   "id": "a72879d7",
   "metadata": {},
   "source": [
    "21. Write a Python program to assign grades based on different ranges of scores using elif statements."
   ]
  },
  {
   "cell_type": "code",
   "execution_count": 11,
   "id": "8cb6b7d5",
   "metadata": {},
   "outputs": [
    {
     "name": "stdout",
     "output_type": "stream",
     "text": [
      "Enter the score: 80\n",
      "The grade for the score 80.0 is B.\n"
     ]
    }
   ],
   "source": [
    "# Input the score from the user\n",
    "score = float(input(\"Enter the score: \"))\n",
    "\n",
    "# Assign grades based on different score ranges\n",
    "if score >= 90:\n",
    "    grade = 'A'\n",
    "elif score >= 80:\n",
    "    grade = 'B'\n",
    "elif score >= 70:\n",
    "    grade = 'C'\n",
    "elif score >= 60:\n",
    "    grade = 'D'\n",
    "else:\n",
    "    grade = 'F'\n",
    "\n",
    "# Print the assigned grade\n",
    "print(f\"The grade for the score {score} is {grade}.\")\n"
   ]
  },
  {
   "cell_type": "markdown",
   "id": "cb9c8565",
   "metadata": {},
   "source": [
    "22. Implement a program to determine the type of a triangle based on its angles."
   ]
  },
  {
   "cell_type": "code",
   "execution_count": 12,
   "id": "1b516aaf",
   "metadata": {},
   "outputs": [
    {
     "name": "stdout",
     "output_type": "stream",
     "text": [
      "Enter the first angle: 45\n",
      "Enter the second angle: 90\n",
      "Enter the third angle: 45\n",
      "The angles 45.0, 90.0, and 45.0 form a Right Triangle.\n"
     ]
    }
   ],
   "source": [
    "# Input the angles of the triangle\n",
    "angle1 = float(input(\"Enter the first angle: \"))\n",
    "angle2 = float(input(\"Enter the second angle: \"))\n",
    "angle3 = float(input(\"Enter the third angle: \"))\n",
    "\n",
    "# Check if the angles form a valid triangle (sum of angles should be 180 degrees)\n",
    "if angle1 + angle2 + angle3 == 180:\n",
    "    # Check the type of triangle based on angle measurements\n",
    "    if angle1 < 90 and angle2 < 90 and angle3 < 90:\n",
    "        triangle_type = \"Acute Triangle\"\n",
    "    elif angle1 == 90 or angle2 == 90 or angle3 == 90:\n",
    "        triangle_type = \"Right Triangle\"\n",
    "    else:\n",
    "        triangle_type = \"Obtuse Triangle\"\n",
    "    \n",
    "    # Print the type of triangle\n",
    "    print(f\"The angles {angle1}, {angle2}, and {angle3} form a {triangle_type}.\")\n",
    "else:\n",
    "    print(\"The angles do not form a valid triangle.\")\n"
   ]
  },
  {
   "cell_type": "markdown",
   "id": "f655f673",
   "metadata": {},
   "source": [
    "23. Develop a program to categorize a given person's BMI into underweight, normal, overweight, or obese using\n",
    "elif statements."
   ]
  },
  {
   "cell_type": "code",
   "execution_count": 13,
   "id": "eb7125d9",
   "metadata": {},
   "outputs": [
    {
     "name": "stdout",
     "output_type": "stream",
     "text": [
      "Enter your height (in meters): 1.752\n",
      "Enter your weight (in kilograms): 70\n",
      "Your BMI is 22.80, which falls into the category: Normal Weight.\n"
     ]
    }
   ],
   "source": [
    "# Input height (in meters) and weight (in kilograms) from the user\n",
    "height = float(input(\"Enter your height (in meters): \"))\n",
    "weight = float(input(\"Enter your weight (in kilograms): \"))\n",
    "\n",
    "# Calculate BMI\n",
    "bmi = weight / (height ** 2)\n",
    "\n",
    "# Categorize BMI\n",
    "if bmi < 18.5:\n",
    "    category = \"Underweight\"\n",
    "elif 18.5 <= bmi < 24.9:\n",
    "    category = \"Normal Weight\"\n",
    "elif 25 <= bmi < 29.9:\n",
    "    category = \"Overweight\"\n",
    "else:\n",
    "    category = \"Obese\"\n",
    "\n",
    "# Print the BMI category\n",
    "print(f\"Your BMI is {bmi:.2f}, which falls into the category: {category}.\")\n"
   ]
  },
  {
   "cell_type": "markdown",
   "id": "f9d15305",
   "metadata": {},
   "source": [
    "24. Create a program that determines whether a given number is positive, negative, or zero using elif\n",
    "statements."
   ]
  },
  {
   "cell_type": "code",
   "execution_count": 14,
   "id": "5e2e4c98",
   "metadata": {},
   "outputs": [
    {
     "name": "stdout",
     "output_type": "stream",
     "text": [
      "Enter a number: 5\n",
      "The number 5.0 is Positive.\n"
     ]
    }
   ],
   "source": [
    "# Input a number from the user\n",
    "number = float(input(\"Enter a number: \"))\n",
    "\n",
    "# Check if the number is positive, negative, or zero\n",
    "if number > 0:\n",
    "    result = \"Positive\"\n",
    "elif number < 0:\n",
    "    result = \"Negative\"\n",
    "else:\n",
    "    result = \"Zero\"\n",
    "\n",
    "# Print the result\n",
    "print(f\"The number {number} is {result}.\")\n"
   ]
  },
  {
   "cell_type": "markdown",
   "id": "168e225c",
   "metadata": {},
   "source": [
    "25. Write a Python script to determine the type of a character (uppercase, lowercase, or special) using elif\n",
    "statements."
   ]
  },
  {
   "cell_type": "code",
   "execution_count": 15,
   "id": "5d85300d",
   "metadata": {},
   "outputs": [
    {
     "name": "stdout",
     "output_type": "stream",
     "text": [
      "Enter a character: HELLO\n",
      "The character 'HELLO' is a Uppercase character.\n"
     ]
    }
   ],
   "source": [
    "# Input a character from the user\n",
    "character = input(\"Enter a character: \")\n",
    "\n",
    "# Check the type of character\n",
    "if character.isalpha():\n",
    "    if character.islower():\n",
    "        char_type = \"Lowercase\"\n",
    "    elif character.isupper():\n",
    "        char_type = \"Uppercase\"\n",
    "else:\n",
    "    char_type = \"Special Character\"\n",
    "\n",
    "# Print the result\n",
    "print(f\"The character '{character}' is a {char_type} character.\")\n"
   ]
  },
  {
   "cell_type": "markdown",
   "id": "6b5ed180",
   "metadata": {},
   "source": [
    "26. Implement a program to calculate the discounted price based on different purchase amounts using elif\n",
    "statements."
   ]
  },
  {
   "cell_type": "code",
   "execution_count": 25,
   "id": "de8fe5d2",
   "metadata": {},
   "outputs": [
    {
     "name": "stdout",
     "output_type": "stream",
     "text": [
      "Enter the amount you have purchased products of: 5555.0968\n",
      "Your discounted price is 4444.08\n"
     ]
    }
   ],
   "source": [
    "price = float(input(\"Enter the amount you have purchased products of: \"))\n",
    "discount = 0\n",
    "\n",
    "if price >= 10000:\n",
    "    discount = price * 0.30  # 30% discount\n",
    "    price -= discount\n",
    "elif 5000 <= price < 10000:\n",
    "    discount = price * 0.20  # 20% discount\n",
    "    price -= discount\n",
    "elif 2000 <= price < 5000:\n",
    "    discount = price * 0.10  # 10% discount\n",
    "    price -= discount\n",
    "\n",
    "print(f\"Your discounted price is {price:.2f}\")\n",
    "\n",
    "    \n",
    "    \n",
    "    \n"
   ]
  },
  {
   "cell_type": "markdown",
   "id": "6914885c",
   "metadata": {},
   "source": [
    "27. Develop a program to calculate the electricity bill based on different consumption slabs using elif\n",
    "statements."
   ]
  },
  {
   "cell_type": "code",
   "execution_count": 28,
   "id": "f23db1ed",
   "metadata": {},
   "outputs": [
    {
     "name": "stdout",
     "output_type": "stream",
     "text": [
      "Enter your electricity consumption in units (kWh): 28\n",
      "Your electricity bill for 28.0 kWh is rs.72.80\n"
     ]
    }
   ],
   "source": [
    "# Input the electricity consumption in units (kilowatt-hours)\n",
    "consumption = float(input(\"Enter your electricity consumption in units (kWh): \"))\n",
    "\n",
    "# Initialize the bill amount\n",
    "bill = 0\n",
    "\n",
    "# Calculate the electricity bill based on different consumption slabs\n",
    "if consumption <= 50:\n",
    "    bill = consumption * 2.60  # Rate for the first 50 units\n",
    "elif 50 < consumption <= 100:\n",
    "    bill = 50 * 2.60 + (consumption - 50) * 3.25  # Rate for the next 50 units\n",
    "elif 100 < consumption <= 200:\n",
    "    bill = 50 * 2.60 + 50 * 3.25 + (consumption - 100) * 5.50  # Rate for the next 100 units\n",
    "else:\n",
    "    bill = 50 * 2.60 + 50 * 3.25 + 100 * 5.50 + (consumption - 200) * 6.80  # Rate for additional units\n",
    "\n",
    "# Print the electricity bill\n",
    "print(f\"Your electricity bill for {consumption} kWh is rs.{bill:.2f}\")\n"
   ]
  },
  {
   "cell_type": "markdown",
   "id": "b37c1564",
   "metadata": {},
   "source": [
    "28. Create a program to determine the type of quadrilateral based on its angles and sides using elif\n",
    "statements."
   ]
  },
  {
   "cell_type": "code",
   "execution_count": 30,
   "id": "09384887",
   "metadata": {
    "scrolled": true
   },
   "outputs": [
    {
     "name": "stdout",
     "output_type": "stream",
     "text": [
      "Enter the first angle (in degrees): 90\n",
      "Enter the second angle (in degrees): 90\n",
      "Enter the third angle (in degrees): 90\n",
      "Enter the fourth angle (in degrees): 90\n",
      "Enter the length of the first side: 15\n",
      "Enter the length of the second side: 15\n",
      "Enter the length of the third side: 15\n",
      "Enter the length of the fourth side: 15\n",
      "The given quadrilateral is a Square.\n"
     ]
    }
   ],
   "source": [
    "# Input the angles and sides of the quadrilateral\n",
    "#we will take inputs of all angle and side lengths and based on that we will identify.\n",
    "angle1 = float(input(\"Enter the first angle (in degrees): \"))\n",
    "angle2 = float(input(\"Enter the second angle (in degrees): \"))\n",
    "angle3 = float(input(\"Enter the third angle (in degrees): \"))\n",
    "angle4 = float(input(\"Enter the fourth angle (in degrees): \"))\n",
    "\n",
    "side1 = float(input(\"Enter the length of the first side: \"))\n",
    "side2 = float(input(\"Enter the length of the second side: \"))\n",
    "side3 = float(input(\"Enter the length of the third side: \"))\n",
    "side4 = float(input(\"Enter the length of the fourth side: \"))\n",
    "\n",
    "# Check the type of quadrilateral based on angles and sides\n",
    "if angle1 == angle2 == angle3 == angle4 == 90:\n",
    "    if side1 == side2 == side3 == side4:\n",
    "        quadrilateral_type = \"Square\"\n",
    "    elif side1 == side3 and side2 == side4:\n",
    "        quadrilateral_type = \"Rectangle\"\n",
    "    else:\n",
    "        quadrilateral_type = \"Quadrilateral\"\n",
    "elif side1 == side2 == side3 == side4:\n",
    "    if angle1 == angle2 == angle3 == angle4:\n",
    "        quadrilateral_type = \"Rhombus\"\n",
    "    else:\n",
    "        quadrilateral_type = \"Parallelogram\"\n",
    "else:\n",
    "    quadrilateral_type = \"Quadrilateral\"\n",
    "\n",
    "# Print the type of quadrilateral\n",
    "print(f\"The given quadrilateral is a {quadrilateral_type}.\")\n"
   ]
  },
  {
   "cell_type": "markdown",
   "id": "da9bfd84",
   "metadata": {},
   "source": [
    "29. Write a Python script to determine the season based on a user-provided month using elif statements."
   ]
  },
  {
   "cell_type": "code",
   "execution_count": 32,
   "id": "a3e9cd8b",
   "metadata": {},
   "outputs": [
    {
     "name": "stdout",
     "output_type": "stream",
     "text": [
      "Enter the month: December\n",
      "It's the winter season.\n"
     ]
    }
   ],
   "source": [
    "month = input(\"Enter the month: \")\n",
    "\n",
    "if month == \"January\" or month == \"February\" or month == \"December\" or month == \"November\":\n",
    "    print(\"It's the winter season.\")\n",
    "elif month == \"March\" or month == \"April\" or month == \"May\" or month == \"June\":\n",
    "    print(\"It's the summer season.\")\n",
    "else:\n",
    "    print(\"It's the monsoon season.\")\n"
   ]
  },
  {
   "cell_type": "markdown",
   "id": "e2019dd9",
   "metadata": {},
   "source": [
    "30. Implement a program to determine the type of a year (leap or common) and month (30 or 31 days) using\n",
    "elif statements."
   ]
  },
  {
   "cell_type": "code",
   "execution_count": 33,
   "id": "cf080ffe",
   "metadata": {},
   "outputs": [
    {
     "name": "stdout",
     "output_type": "stream",
     "text": [
      "Enter a year: 1988\n",
      "Enter a month: June\n",
      "The year 1988 is a leap year, and June has 30 days.\n"
     ]
    }
   ],
   "source": [
    "# Input year and month from the user\n",
    "year = int(input(\"Enter a year: \"))\n",
    "month = input(\"Enter a month: \")\n",
    "\n",
    "# Check if it's a leap year or a common year\n",
    "if (year % 4 == 0 and year % 100 != 0) or (year % 400 == 0):\n",
    "    year_type = \"leap\"\n",
    "else:\n",
    "    year_type = \"common\"\n",
    "\n",
    "# Check the number of days in the month\n",
    "if month in (\"January\", \"March\", \"May\", \"July\", \"August\", \"October\", \"December\"):\n",
    "    days_in_month = 31\n",
    "elif month in (\"April\", \"June\", \"September\", \"November\"):\n",
    "    days_in_month = 30\n",
    "elif month == \"February\":\n",
    "    if year_type == \"leap\":\n",
    "        days_in_month = 29\n",
    "    else:\n",
    "        days_in_month = 28\n",
    "else:\n",
    "    print(\"Invalid month input.\")\n",
    "    exit()\n",
    "\n",
    "# Print the result\n",
    "print(f\"The year {year} is a {year_type} year, and {month} has {days_in_month} days.\")\n"
   ]
  },
  {
   "cell_type": "markdown",
   "id": "ad1551ff",
   "metadata": {},
   "source": [
    "Basic Level:"
   ]
  },
  {
   "cell_type": "markdown",
   "id": "f158daa4",
   "metadata": {},
   "source": [
    "1. Write a Python program that checks if a given number is positive, negative, or zero."
   ]
  },
  {
   "cell_type": "code",
   "execution_count": 34,
   "id": "553f16c7",
   "metadata": {},
   "outputs": [
    {
     "name": "stdout",
     "output_type": "stream",
     "text": [
      "Enter a number: 5\n",
      "The number is positive.\n"
     ]
    }
   ],
   "source": [
    "# Input a number from the user\n",
    "number = float(input(\"Enter a number: \"))\n",
    "\n",
    "# Check if the number is positive, negative, or zero\n",
    "if number > 0:\n",
    "    print(\"The number is positive.\")\n",
    "elif number < 0:\n",
    "    print(\"The number is negative.\")\n",
    "else:\n",
    "    print(\"The number is zero.\")\n"
   ]
  },
  {
   "cell_type": "markdown",
   "id": "6d1385a8",
   "metadata": {},
   "source": [
    "2. Create a program to determine if a person is eligible to vote based on their age."
   ]
  },
  {
   "cell_type": "code",
   "execution_count": 35,
   "id": "965135cc",
   "metadata": {},
   "outputs": [
    {
     "name": "stdout",
     "output_type": "stream",
     "text": [
      "Enter your age: 18\n",
      "You are eligible to vote.\n"
     ]
    }
   ],
   "source": [
    "# Input the age of the person\n",
    "age = int(input(\"Enter your age: \"))\n",
    "\n",
    "# Check if the person is eligible to vote\n",
    "if age >= 18:\n",
    "    print(\"You are eligible to vote.\")\n",
    "else:\n",
    "    print(\"You are not eligible to vote yet.\")\n"
   ]
  },
  {
   "cell_type": "markdown",
   "id": "101e97fc",
   "metadata": {},
   "source": [
    "3. Write a program to find the maximum of two given numbers using conditional statements."
   ]
  },
  {
   "cell_type": "code",
   "execution_count": 36,
   "id": "6aee78a8",
   "metadata": {},
   "outputs": [
    {
     "name": "stdout",
     "output_type": "stream",
     "text": [
      "Enter the first number: 15\n",
      "Enter the second number: 17\n",
      "The maximum of 15.0 and 17.0 is 17.0.\n"
     ]
    }
   ],
   "source": [
    "# Input two numbers from the user\n",
    "num1 = float(input(\"Enter the first number: \"))\n",
    "num2 = float(input(\"Enter the second number: \"))\n",
    "\n",
    "# Find the maximum of the two numbers using conditional statements\n",
    "if num1 > num2:\n",
    "    maximum = num1\n",
    "else:\n",
    "    maximum = num2\n",
    "\n",
    "# Print the maximum number\n",
    "print(f\"The maximum of {num1} and {num2} is {maximum}.\")\n"
   ]
  },
  {
   "cell_type": "markdown",
   "id": "e83c3ceb",
   "metadata": {},
   "source": [
    "4. Develop a program that calculates the grade of a student based on their exam score."
   ]
  },
  {
   "cell_type": "code",
   "execution_count": 37,
   "id": "71c891c9",
   "metadata": {},
   "outputs": [
    {
     "name": "stdout",
     "output_type": "stream",
     "text": [
      "Enter the exam score: 75\n",
      "The grade for the exam score 75.0 is C.\n"
     ]
    }
   ],
   "source": [
    "# Input the exam score from the user\n",
    "score = float(input(\"Enter the exam score: \"))\n",
    "\n",
    "# Determine the grade based on the score\n",
    "if 90 <= score <= 100:\n",
    "    grade = \"A\"\n",
    "elif 80 <= score < 90:\n",
    "    grade = \"B\"\n",
    "elif 70 <= score < 80:\n",
    "    grade = \"C\"\n",
    "elif 60 <= score < 70:\n",
    "    grade = \"D\"\n",
    "else:\n",
    "    grade = \"F\"\n",
    "\n",
    "# Print the calculated grade\n",
    "print(f\"The grade for the exam score {score} is {grade}.\")\n"
   ]
  },
  {
   "cell_type": "markdown",
   "id": "ca7ad064",
   "metadata": {},
   "source": [
    "5. Create a program that checks if a year is a leap year or not."
   ]
  },
  {
   "cell_type": "code",
   "execution_count": 39,
   "id": "5ffe72a5",
   "metadata": {},
   "outputs": [
    {
     "name": "stdout",
     "output_type": "stream",
     "text": [
      "Enter a year: 1988\n",
      "1988 is a leap year.\n"
     ]
    }
   ],
   "source": [
    "# Input a year from the user\n",
    "year = int(input(\"Enter a year: \"))\n",
    "\n",
    "# Check if it's a leap year\n",
    "if (year % 4 == 0 and year % 100 != 0) or (year % 400 == 0):\n",
    "    print(f\"{year} is a leap year.\")\n",
    "else:\n",
    "    print(f\"{year} is not a leap year.\")\n"
   ]
  },
  {
   "cell_type": "markdown",
   "id": "f439618b",
   "metadata": {},
   "source": [
    "6. Write a program to classify a triangle based on its sides' lengths."
   ]
  },
  {
   "cell_type": "code",
   "execution_count": 40,
   "id": "e0274cef",
   "metadata": {},
   "outputs": [
    {
     "name": "stdout",
     "output_type": "stream",
     "text": [
      "Enter the length of the first side: 15\n",
      "Enter the length of the second side: 15\n",
      "Enter the length of the third side: 15\n",
      "The given triangle is a Equilateral Triangle.\n"
     ]
    }
   ],
   "source": [
    "# Input the lengths of the three sides of the triangle\n",
    "side1 = float(input(\"Enter the length of the first side: \"))\n",
    "side2 = float(input(\"Enter the length of the second side: \"))\n",
    "side3 = float(input(\"Enter the length of the third side: \"))\n",
    "\n",
    "# Check the type of triangle based on side lengths\n",
    "if side1 == side2 == side3:\n",
    "    triangle_type = \"Equilateral Triangle\"\n",
    "elif side1 == side2 or side1 == side3 or side2 == side3:\n",
    "    triangle_type = \"Isosceles Triangle\"\n",
    "else:\n",
    "    triangle_type = \"Scalene Triangle\"\n",
    "\n",
    "# Print the type of triangle\n",
    "print(f\"The given triangle is a {triangle_type}.\")\n"
   ]
  },
  {
   "cell_type": "markdown",
   "id": "dee690d9",
   "metadata": {},
   "source": [
    "7. Build a program that determines the largest of three given numbers."
   ]
  },
  {
   "cell_type": "code",
   "execution_count": 41,
   "id": "3b6f8e9a",
   "metadata": {},
   "outputs": [
    {
     "name": "stdout",
     "output_type": "stream",
     "text": [
      "Enter the first number: 15\n",
      "Enter the second number: 17\n",
      "Enter the third number: 18\n",
      "The largest of 15.0, 17.0, and 18.0 is 18.0.\n"
     ]
    }
   ],
   "source": [
    "# Input three numbers from the user\n",
    "num1 = float(input(\"Enter the first number: \"))\n",
    "num2 = float(input(\"Enter the second number: \"))\n",
    "num3 = float(input(\"Enter the third number: \"))\n",
    "\n",
    "# Determine the largest number using conditional statements\n",
    "if num1 >= num2 and num1 >= num3:\n",
    "    largest = num1\n",
    "elif num2 >= num1 and num2 >= num3:\n",
    "    largest = num2\n",
    "else:\n",
    "    largest = num3\n",
    "\n",
    "# Print the largest number\n",
    "print(f\"The largest of {num1}, {num2}, and {num3} is {largest}.\")\n"
   ]
  },
  {
   "cell_type": "markdown",
   "id": "e203e0de",
   "metadata": {},
   "source": [
    "8. Develop a program that checks whether a character is a vowel or a consonant."
   ]
  },
  {
   "cell_type": "code",
   "execution_count": 43,
   "id": "f388e060",
   "metadata": {},
   "outputs": [
    {
     "name": "stdout",
     "output_type": "stream",
     "text": [
      "Enter a character: a\n",
      "a is a vowel.\n"
     ]
    }
   ],
   "source": [
    "# Input a character from the user (assuming a single character)\n",
    "character = input(\"Enter a character: \")\n",
    "\n",
    "# Check if the input is a single character\n",
    "if len(character) == 1:\n",
    "    # Convert the character to lowercase (assuming case-insensitive)\n",
    "    character = character.lower()\n",
    "\n",
    "    # Check if it's a vowel or a consonant\n",
    "    if character in \"aeiou\":\n",
    "        print(f\"{character} is a vowel.\")\n",
    "    else:\n",
    "        print(f\"{character} is a consonant.\")\n",
    "else:\n",
    "    print(\"Please enter a single character.\")\n"
   ]
  },
  {
   "cell_type": "markdown",
   "id": "eda77265",
   "metadata": {},
   "source": [
    "9. Create a program to calculate the total cost of a shopping cart based on discounts."
   ]
  },
  {
   "cell_type": "code",
   "execution_count": 45,
   "id": "d2959acd",
   "metadata": {},
   "outputs": [
    {
     "name": "stdout",
     "output_type": "stream",
     "text": [
      "enter the cost of product: 4500\n",
      "enter the cost of product: 1500\n",
      "enter the cost of product: 500\n",
      "total cost of cart is 6500\n"
     ]
    }
   ],
   "source": [
    "cost1 = int(input(\"enter the cost of product: \"))\n",
    "cost2 = int(input(\"enter the cost of product: \"))\n",
    "cost3 = int(input(\"enter the cost of product: \"))\n",
    "\n",
    "total_cost = cost1+cost2+cost3\n",
    "\n",
    "print(f\"total cost of cart is {total_cost}\")\n",
    "\n"
   ]
  },
  {
   "cell_type": "markdown",
   "id": "0c189b6b",
   "metadata": {},
   "source": [
    "10. Write a program that checks if a given number is even or odd."
   ]
  },
  {
   "cell_type": "code",
   "execution_count": 46,
   "id": "d5cb3374",
   "metadata": {},
   "outputs": [
    {
     "name": "stdout",
     "output_type": "stream",
     "text": [
      "Enter a number: 6\n",
      "6 is an even number.\n"
     ]
    }
   ],
   "source": [
    "# Input a number from the user\n",
    "number = int(input(\"Enter a number: \"))\n",
    "\n",
    "# Check if the number is even or odd\n",
    "if number % 2 == 0:\n",
    "    print(f\"{number} is an even number.\")\n",
    "else:\n",
    "    print(f\"{number} is an odd number.\")\n"
   ]
  },
  {
   "cell_type": "markdown",
   "id": "c61d3c9b",
   "metadata": {},
   "source": [
    "Intermediate Level:"
   ]
  },
  {
   "cell_type": "markdown",
   "id": "8b58fe54",
   "metadata": {},
   "source": [
    "11. Write a program that calculates the roots of a quadratic equation ."
   ]
  },
  {
   "cell_type": "code",
   "execution_count": 5,
   "id": "0488878a",
   "metadata": {},
   "outputs": [
    {
     "name": "stdout",
     "output_type": "stream",
     "text": [
      "enter the coefficient of a: 1\n",
      "enter the coefficient of b: 4\n",
      "enter the coefficient of c: 4\n",
      "There is one real root: -2.0\n"
     ]
    }
   ],
   "source": [
    "#x = (-b ± √(b² - 4ac)) / (2a)\n",
    "import math #math library is used to use maths tool such as square root.\n",
    "a = float(input(\"enter the coefficient of a: \"))\n",
    "b = float(input(\"enter the coefficient of b: \"))\n",
    "c = float(input(\"enter the coefficient of c: \"))\n",
    "\n",
    "#discriminant \n",
    "d = (b**2)-4*a*c\n",
    "\n",
    "if(d>0):\n",
    "    root1 = (-b + math.sqrt(d))/(2*a)\n",
    "    root2 = (-b + math.sqrt(d))/(2*a)\n",
    "    \n",
    "    print(f\"The roots are real and distinct: {root1} and {root2}\")\n",
    "    \n",
    "elif(d==0):\n",
    "    root = -b/(2*a)\n",
    "    print(f\"There is one real root: {root}\")\n",
    "elif(d<0):\n",
    "    real_part = -b / (2*a)\n",
    "    imaginary_part = math.sqrt(abs(d)) / (2*a)\n",
    "    print(f\"The roots are complex: {real_part} + {imaginary_part}i and {real_part} - {imaginary_part}i\")\n",
    "\n"
   ]
  },
  {
   "cell_type": "markdown",
   "id": "6d5299f6",
   "metadata": {},
   "source": [
    "12. Create a program that determines the day of the week based on the day number (1-7)."
   ]
  },
  {
   "cell_type": "code",
   "execution_count": 6,
   "id": "de695a13",
   "metadata": {},
   "outputs": [
    {
     "name": "stdout",
     "output_type": "stream",
     "text": [
      "Enter a day number (1-7): 5\n",
      "The day of the week for 5 is Thursday.\n"
     ]
    }
   ],
   "source": [
    "# Define a dictionary to map day numbers to day names\n",
    "day_number_to_name = {\n",
    "    1: \"Sunday\",\n",
    "    2: \"Monday\",\n",
    "    3: \"Tuesday\",\n",
    "    4: \"Wednesday\",\n",
    "    5: \"Thursday\",\n",
    "    6: \"Friday\",\n",
    "    7: \"Saturday\"\n",
    "}\n",
    "\n",
    "# Input the day number from the user\n",
    "day_number = int(input(\"Enter a day number (1-7): \"))\n",
    "\n",
    "# Check if the input is within the valid range\n",
    "if 1 <= day_number <= 7:\n",
    "    # Look up the day name in the dictionary\n",
    "    day_name = day_number_to_name[day_number]\n",
    "    print(f\"The day of the week for {day_number} is {day_name}.\")\n",
    "else:\n",
    "    print(\"Invalid day number. Please enter a number between 1 and 7.\")\n"
   ]
  },
  {
   "cell_type": "markdown",
   "id": "748b20f8",
   "metadata": {},
   "source": [
    "13. Develop a program that calculates the factorial of a given number using recursion."
   ]
  },
  {
   "cell_type": "code",
   "execution_count": 7,
   "id": "4e2f2fea",
   "metadata": {},
   "outputs": [
    {
     "name": "stdout",
     "output_type": "stream",
     "text": [
      "Enter a number to calculate its factorial: 5\n",
      "The factorial of 5 is 120\n"
     ]
    }
   ],
   "source": [
    "def factorial(n):\n",
    "    if(n==0 or n==1):\n",
    "        return 1\n",
    "    else:\n",
    "        return n*factorial(n-1)\n",
    "    \n",
    "# Input a number from the user\n",
    "num = int(input(\"Enter a number to calculate its factorial: \"))\n",
    "# Check if the input is a non-negative integer\n",
    "if num < 0:\n",
    "    print(\"Factorial is not defined for negative numbers.\")\n",
    "else:\n",
    "    result = factorial(num)\n",
    "    print(f\"The factorial of {num} is {result}\")\n",
    "  "
   ]
  },
  {
   "cell_type": "markdown",
   "id": "14ea95a4",
   "metadata": {},
   "source": [
    "14. Write a program to find the largest among three numbers without using the `max()` function."
   ]
  },
  {
   "cell_type": "code",
   "execution_count": 9,
   "id": "f45e6f49",
   "metadata": {},
   "outputs": [
    {
     "name": "stdout",
     "output_type": "stream",
     "text": [
      "Enter number1: 55\n",
      "Enter number2: 21\n",
      "Enter number3: 11\n",
      "55\n"
     ]
    }
   ],
   "source": [
    "num1 = int(input(\"Enter number1: \"))\n",
    "num2 = int(input(\"Enter number2: \"))\n",
    "num3 = int(input(\"Enter number3: \"))\n",
    "if(num1>num2 and num1>num3):\n",
    "    print(num1)\n",
    "elif(num2>num1 and num2>num3):\n",
    "    print(num2)\n",
    "else:\n",
    "    print(num3)\n",
    "\n",
    "\n"
   ]
  },
  {
   "cell_type": "markdown",
   "id": "f7ec9f35",
   "metadata": {},
   "source": [
    "15. Create a program that simulates a basic ATM transaction menu."
   ]
  },
  {
   "cell_type": "code",
   "execution_count": 13,
   "id": "9830c62e",
   "metadata": {},
   "outputs": [
    {
     "name": "stdout",
     "output_type": "stream",
     "text": [
      "enter your pin: 5814\n",
      "click 1 to withdraw money from saving accounts: \n",
      "click 2 to check your account balance: \n",
      "click 3 to deposite cash:  \n",
      "click 4 to know amount in FD: \n",
      "enter the option you want to access: 2\n",
      "your bank balance is 10000: \n"
     ]
    }
   ],
   "source": [
    "#we have given a pin to access atm and that is 5814\n",
    "#we have given option to user just like an atm machine.\n",
    "pin = int(input(\"enter your pin: \"))\n",
    "print((\"click 1 to withdraw money from saving accounts: \"))\n",
    "print((\"click 2 to check your account balance: \"))\n",
    "print((\"click 3 to deposite cash:  \"))\n",
    "print((\"click 4 to know amount in FD: \"))\n",
    "option = int(input(\"enter the option you want to access: \"))\n",
    "\n",
    "if(pin == 5814):\n",
    "    if(option==1):\n",
    "        print(\"enter the amout of money you want to withdraw: \")\n",
    "    elif(option==2):\n",
    "        print(\"your bank balance is 10000: \")\n",
    "    elif(option==3):\n",
    "        print(\"enter the amout of money you want to deposite: \")\n",
    "    elif(option==4):\n",
    "        print(\"you have 5000 rs. in FD.\")\n",
    "else:\n",
    "    print(\"you have entered wrong pin.\") #if wrong pin then we will exit\n"
   ]
  },
  {
   "cell_type": "markdown",
   "id": "5b666a0b",
   "metadata": {},
   "source": [
    "16. Build a program that checks if a given string is a palindrome or not."
   ]
  },
  {
   "cell_type": "code",
   "execution_count": 17,
   "id": "8c3a1008",
   "metadata": {},
   "outputs": [
    {
     "name": "stdout",
     "output_type": "stream",
     "text": [
      "enter the string: naman\n",
      "given string is a palindrome\n"
     ]
    }
   ],
   "source": [
    "#palindrome is a string or number which reads same from forward and behind.\n",
    "#for ex: radar.\n",
    "string1 = input(\"enter the string: \")\n",
    "reversed_string = string1[ : :-1] #reverse the string\n",
    "if(string1==reversed_string): #condition\n",
    "    print(\"given string is a palindrome\")\n",
    "else:\n",
    "    print(\"not a palindrome\")"
   ]
  },
  {
   "cell_type": "markdown",
   "id": "e6e8bcb9",
   "metadata": {},
   "source": [
    "17. Write a program that calculates the average of a list of numbers, excluding the smallest and largest values."
   ]
  },
  {
   "cell_type": "code",
   "execution_count": 1,
   "id": "733fae4e",
   "metadata": {},
   "outputs": [
    {
     "name": "stdout",
     "output_type": "stream",
     "text": [
      "18.0\n"
     ]
    }
   ],
   "source": [
    "list1 = [20, 16, 18, 25, 14]\n",
    "\n",
    "maximum = max(list1)\n",
    "minimum = min(list1)\n",
    "\n",
    "# Create a new list excluding the smallest and largest values\n",
    "filtered_list = [x for x in list1 if x != maximum and x != minimum] #using list comprehension.\n",
    "\n",
    "# Calculate the average of the filtered list\n",
    "if filtered_list:\n",
    "    avg = sum(filtered_list) / len(filtered_list)\n",
    "    print(avg)\n",
    "else:\n",
    "    print(\"No elements left in the list after removing extremes.\")\n",
    "\n",
    "    "
   ]
  },
  {
   "cell_type": "markdown",
   "id": "305625ba",
   "metadata": {},
   "source": [
    "18. Develop a program that converts a given temperature from Celsius to Fahrenheit."
   ]
  },
  {
   "cell_type": "code",
   "execution_count": 5,
   "id": "233911c0",
   "metadata": {},
   "outputs": [
    {
     "name": "stdout",
     "output_type": "stream",
     "text": [
      "enter the tempreture in celsius: 88\n",
      "tempreture in fahrenheit is: 190.4\n"
     ]
    }
   ],
   "source": [
    "c = int(input(\"enter the tempreture in celsius: \"))\n",
    "#(°F) = (Temperature in degrees Celsius (°C) * 9/5) + 32\n",
    "f = (c)*1.8 + 32\n",
    "print(f\"tempreture in fahrenheit is: {f}\")"
   ]
  },
  {
   "cell_type": "markdown",
   "id": "92802b27",
   "metadata": {},
   "source": [
    "19. Create a program that simulates a basic calculator for addition, subtraction, multiplication, and division."
   ]
  },
  {
   "cell_type": "code",
   "execution_count": 15,
   "id": "7b397b30",
   "metadata": {},
   "outputs": [
    {
     "name": "stdout",
     "output_type": "stream",
     "text": [
      "enter number1: 5\n",
      "enter number2: 0\n",
      "enter the operator: /\n",
      "the result is: inf\n"
     ]
    }
   ],
   "source": [
    "num1 = int(input(\"enter number1: \"))\n",
    "num2 = int(input(\"enter number2: \"))\n",
    "operator = input(\"enter the operator: \")\n",
    "result = 0\n",
    "\n",
    "if(operator == \"+\"):\n",
    "    result = num1 + num2\n",
    "elif(operator == \"-\"):\n",
    "    result = num1 - num2 \n",
    "elif(operator == \"*\"):\n",
    "    result = num1*num2\n",
    "elif(operator == \"/\"):\n",
    "    if(num2==0):\n",
    "        result = \"inf\"\n",
    "    else:\n",
    "        result = num1/num2\n",
    "    \n",
    "print(f\"the result is: {result}\")\n"
   ]
  },
  {
   "cell_type": "markdown",
   "id": "3d21e922",
   "metadata": {},
   "source": [
    "20. Write a program that determines the roots of a cubic equation using the Cardano formula."
   ]
  },
  {
   "cell_type": "code",
   "execution_count": 19,
   "id": "0af8d4fe",
   "metadata": {},
   "outputs": [
    {
     "name": "stdout",
     "output_type": "stream",
     "text": [
      "Enter the coefficient of x^3: 1\n",
      "Enter the coefficient of x^2: -6\n",
      "Enter the coefficient of x: 11\n",
      "Enter the constant term: -6\n",
      "Roots of the cubic equation:\n",
      "Root 1: (3.144714242553332+1.982703228250094j)\n",
      "Root 2: (1.427642878723334-0.991351614125047j)\n",
      "Root 3: (1.427642878723334-0.991351614125047j)\n"
     ]
    }
   ],
   "source": [
    "# Input coefficients of the cubic equation\n",
    "a = float(input(\"Enter the coefficient of x^3: \"))\n",
    "b = float(input(\"Enter the coefficient of x^2: \"))\n",
    "c = float(input(\"Enter the coefficient of x: \"))\n",
    "d = float(input(\"Enter the constant term: \"))\n",
    "\n",
    "# Calculate the discriminant and reduced discriminant\n",
    "delta = b**2 - 3 * a * c\n",
    "delta_prime = 2 * b**3 - 9 * a * b * c + 27 * a**2 * d\n",
    "\n",
    "# Calculate some intermediate values\n",
    "u = ((-delta + (delta_prime)**0.5) / 2)**(1/3)\n",
    "v = ((-delta - (delta_prime)**0.5) / 2)**(1/3)\n",
    "\n",
    "# Calculate the real root\n",
    "x1 = u + v - b / (3 * a)\n",
    "\n",
    "# Calculate the complex roots\n",
    "i = complex(0, 1)\n",
    "x2 = -(u + v) / 2 - b / (3 * a) + (u - v) * i / 2\n",
    "x3 = -(u + v) / 2 - b / (3 * a) - (u - v) * i / 2\n",
    "\n",
    "# Display the roots\n",
    "print(\"Roots of the cubic equation:\")\n",
    "print(f\"Root 1: {x1}\")\n",
    "print(f\"Root 2: {x2}\")\n",
    "print(f\"Root 3: {x3}\")\n"
   ]
  },
  {
   "cell_type": "markdown",
   "id": "760d4a75",
   "metadata": {},
   "source": [
    "Advanced Level:"
   ]
  },
  {
   "cell_type": "markdown",
   "id": "9bf4fe93",
   "metadata": {},
   "source": [
    "21. Create a program that calculates the income tax based on the user's income and tax brackets."
   ]
  },
  {
   "cell_type": "code",
   "execution_count": 21,
   "id": "67acc75f",
   "metadata": {},
   "outputs": [
    {
     "name": "stdout",
     "output_type": "stream",
     "text": [
      "Enter your taxable income: 45000\n",
      "Your income tax owed is: $8000.00\n"
     ]
    }
   ],
   "source": [
    "# Define the tax brackets and rates\n",
    "tax_brackets = [\n",
    "    (10000, 0.10),  # 10% tax rate for income up to $10,000\n",
    "    (40000, 0.20),  # 20% tax rate for income between $10,001 and $40,000\n",
    "    (None, 0.30)   # 30% tax rate for income above $40,000\n",
    "]\n",
    "\n",
    "# Input income from the user\n",
    "try:\n",
    "    income = float(input(\"Enter your taxable income: \"))\n",
    "    if income < 0:\n",
    "        raise ValueError(\"Income must be a positive number.\")\n",
    "    \n",
    "    tax_owed = 0\n",
    "\n",
    "    # Calculate income tax\n",
    "    for bracket in tax_brackets:\n",
    "        bracket_income, tax_rate = bracket\n",
    "        if income <= 0:\n",
    "            break\n",
    "        if bracket_income is None:\n",
    "            # Apply the highest tax rate to the remaining income\n",
    "            tax_owed += income * tax_rate\n",
    "        elif income <= bracket_income:\n",
    "            # Income is within this bracket\n",
    "            tax_owed += income * tax_rate\n",
    "            break\n",
    "        else:\n",
    "            # Income is above this bracket, calculate tax for this bracket\n",
    "            tax_owed += bracket_income * tax_rate\n",
    "            income -= bracket_income\n",
    "\n",
    "    print(f\"Your income tax owed is: ${tax_owed:.2f}\")\n",
    "except ValueError as e:\n",
    "    print(e)\n",
    "except KeyboardInterrupt:\n",
    "    print(\"\\nProgram terminated by user.\")\n"
   ]
  },
  {
   "cell_type": "markdown",
   "id": "e3991789",
   "metadata": {},
   "source": [
    "22. Write a program that simulates a rock-paper-scissors game against the computer."
   ]
  },
  {
   "cell_type": "code",
   "execution_count": 26,
   "id": "614aae05",
   "metadata": {},
   "outputs": [
    {
     "name": "stdout",
     "output_type": "stream",
     "text": [
      "enter your choice: paper\n",
      "the computer has choosed rock\n",
      "user wins\n"
     ]
    }
   ],
   "source": [
    "import random\n",
    "my_list = [\"rock\",\"paper\",\"scissors\"]\n",
    "user = input(\"enter your choice: \")\n",
    "\n",
    "random_computer = random.choice(my_list)\n",
    "print(f\"the computer has choosed {random_computer}\")\n",
    "\n",
    "if(random_computer == \"rock\" and user == \"paper\"):\n",
    "    print(\"user wins\")\n",
    "elif(random_computer == \"rock\" and user == \"scissors\"):\n",
    "    print(\"computer wins\")\n",
    "elif(random_computer == \"paper\" and user == \"scissors\"):\n",
    "    print(\"user wins\")\n",
    "elif(random_computer == \"paper\" and user == \"rock\"):\n",
    "    print(\"computer wins\")\n",
    "elif(random_computer == \"scissors\" and user == \"rock\"):\n",
    "    print(\"user wins\")\n",
    "elif(random_computer == \"scissors\" and user == \"paper\"):\n",
    "    print(\"computer wins\")\n"
   ]
  },
  {
   "cell_type": "markdown",
   "id": "c082e360",
   "metadata": {},
   "source": [
    "23. Develop a program that generates a random password based on user preferences (length, complexity)."
   ]
  },
  {
   "cell_type": "code",
   "execution_count": 27,
   "id": "affeb858",
   "metadata": {},
   "outputs": [
    {
     "name": "stdout",
     "output_type": "stream",
     "text": [
      "Enter the desired password length: 10\n",
      "Enter complexity preferences (l=lowercase, u=uppercase, d=digits, s=special chars, or any combination): l\n",
      "Generated Password: jekmcfpzjg\n"
     ]
    }
   ],
   "source": [
    "#we will import two libraries here random and string\n",
    "#random will help generating randomness in passwords.\n",
    "#string is used for generating string and to mould string in different ways\n",
    "import random\n",
    "import string\n",
    "\n",
    "# Input user preferences\n",
    "length = int(input(\"Enter the desired password length: \"))\n",
    "complexity = input(\"Enter complexity preferences (l=lowercase, u=uppercase, d=digits, s=special chars, or any combination): \")\n",
    "\n",
    "# Define character sets based on complexity\n",
    "lower_case = string.ascii_lowercase if 'l' in complexity else ''\n",
    "upper_case = string.ascii_uppercase if 'u' in complexity else ''\n",
    "digits = string.digits if 'd' in complexity else ''\n",
    "special_chars = string.punctuation if 's' in complexity else ''\n",
    "\n",
    "# Combine character sets based on user preferences\n",
    "characters = lower_case + upper_case + digits + special_chars\n",
    "\n",
    "if not characters:\n",
    "    print(\"Password complexity is too low. Please select at least one character set.\")\n",
    "else:\n",
    "    if length < 1:\n",
    "        print(\"Password length must be at least 1 character.\")\n",
    "    else:\n",
    "        # Generate the password\n",
    "        password = ''.join(random.choice(characters) for _ in range(length))\n",
    "        print(\"Generated Password:\", password)\n"
   ]
  },
  {
   "cell_type": "markdown",
   "id": "507f9fc1",
   "metadata": {},
   "source": [
    "24. Create a program that implements a simple text-based adventure game with branching scenarios."
   ]
  },
  {
   "cell_type": "code",
   "execution_count": 31,
   "id": "206661b3",
   "metadata": {},
   "outputs": [
    {
     "name": "stdout",
     "output_type": "stream",
     "text": [
      "Welcome to the game!\n",
      "Do you want to play the game? Press 'Y' for yes and 'N' for no: Y\n",
      "Imagine a scenario where you found 500rs. on the road.\n",
      "Will you take it? Press 1 for yes and 2 for no: 1\n",
      "You have taken the money.\n",
      "Will you give it to the police? Type 'yes' or 'no': yes\n",
      "You are a very noble person.\n"
     ]
    }
   ],
   "source": [
    "#here we have imported the time library which is used to introduce delay in print of meassage.\n",
    "import time\n",
    "\n",
    "print(\"Welcome to the game!\")\n",
    "time.sleep(1) #1second delay is given here \n",
    "\n",
    "y = input(\"Do you want to play the game? Press 'Y' for yes and 'N' for no: \")\n",
    "\n",
    "if y == \"Y\":\n",
    "    print(\"Imagine a scenario where you found 500rs. on the road.\")\n",
    "    time.sleep(1)\n",
    "\n",
    "    choice1 = int(input(\"Will you take it? Press 1 for yes and 2 for no: \"))\n",
    "\n",
    "    if choice1 == 1:\n",
    "        print(\"You have taken the money.\")\n",
    "        time.sleep(1)\n",
    "        choice2 = input(\"Will you give it to the police? Type 'yes' or 'no': \")\n",
    "\n",
    "        if choice2 == \"yes\":\n",
    "            print(\"You are a very noble person.\")\n",
    "        else:\n",
    "            choice3 = input(\"Then what will you do? Will you keep it or give it to someone needy? Type 'keep' or 'give': \")\n",
    "\n",
    "            if choice3 == \"keep\":\n",
    "                print(\"You must need it.\")\n",
    "            else:\n",
    "                print(\"That's really the quality of a nice person.\")\n",
    "    else:\n",
    "        choice4 = input(\"Will you go away from that place? Type 'yes' or 'no': \")\n",
    "        \n",
    "        if choice4 == \"yes\":\n",
    "            print(\"You decided to leave the money and continue your journey.\")\n",
    "        elif choice4 == \"no\":\n",
    "            print(\"You stayed around for a while, but nothing significant happened.\")\n",
    "        else:\n",
    "            print(\"Invalid choice. You're undecided and continue to stand there.\")\n",
    "else:\n",
    "    print(\"Okay, maybe another time. Goodbye!\")                                \n",
    "  "
   ]
  },
  {
   "cell_type": "markdown",
   "id": "7bdfe00b",
   "metadata": {},
   "source": [
    "25. Build a program that solves a linear equation for x, considering different cases."
   ]
  },
  {
   "cell_type": "code",
   "execution_count": 32,
   "id": "ffb41154",
   "metadata": {},
   "outputs": [
    {
     "name": "stdout",
     "output_type": "stream",
     "text": [
      "enter the coeffiecent of a: 0\n",
      "enter the coeffiecent of b: 1\n",
      "No solution (contradiction).\n"
     ]
    }
   ],
   "source": [
    "#linear equation will be : ax+b = 0\n",
    "a = int(input(\"enter the coeffiecent of a: \"))\n",
    "b = int(input(\"enter the coeffiecent of b: \"))\n",
    "\n",
    "if(a==0):\n",
    "    if(b==0):\n",
    "         print(\"Infinite solutions (identity equation).\")\n",
    "    else:\n",
    "        print(\"No solution (contradiction).\")\n",
    "else:\n",
    "    x = -b / a\n",
    "    print(f\"Solution for 'x': x = {x:.2f}\")"
   ]
  },
  {
   "cell_type": "markdown",
   "id": "754f4103",
   "metadata": {},
   "source": [
    "26. Write a program that simulates a basic quiz game with multiple-choice questions and scoring."
   ]
  },
  {
   "cell_type": "code",
   "execution_count": 2,
   "id": "46fb229d",
   "metadata": {},
   "outputs": [
    {
     "name": "stdout",
     "output_type": "stream",
     "text": [
      "Welcome to the cricket quiz!\n",
      "\n",
      "Question 1: Who is the only batter in world cricket with 100 centuries across all formats?\n",
      "1: Virat Kohli\n",
      "2: Sachin Tendulkar\n",
      "3: Don Bradman\n",
      "4: Steve Smith\n",
      "Enter the number corresponding to your choice: 2\n",
      "Correct! Sachin Tendulkar is the right answer.\n",
      "\n",
      "Question 2: Who has the highest individual score in a single ODI inning?\n",
      "1: Virat Kohli\n",
      "2: Rohit Sharma\n",
      "3: AB de Villiers\n",
      "4: Brian Lara\n",
      "Enter the number corresponding to your choice: 2\n",
      "Correct! Rohit Sharma holds the record.\n",
      "\n",
      "Quiz completed! Your score is: 2/2\n"
     ]
    }
   ],
   "source": [
    "print(\"Welcome to the cricket quiz!\")\n",
    "\n",
    "# Initialize the score\n",
    "score = 0\n",
    "\n",
    "# Question 1\n",
    "print(\"\\nQuestion 1: Who is the only batter in world cricket with 100 centuries across all formats?\")\n",
    "choices1 = [\n",
    "    \"1: Virat Kohli\",\n",
    "    \"2: Sachin Tendulkar\",\n",
    "    \"3: Don Bradman\",\n",
    "    \"4: Steve Smith\"\n",
    "]\n",
    "correct_answer1 = 2  # Sachin Tendulkar\n",
    "for choice in choices1:\n",
    "    print(choice)\n",
    "user_choice1 = int(input(\"Enter the number corresponding to your choice: \"))\n",
    "if user_choice1 == correct_answer1:\n",
    "    print(\"Correct! Sachin Tendulkar is the right answer.\")\n",
    "    score += 1\n",
    "else:\n",
    "    print(\"Wrong answer. The correct answer is Sachin Tendulkar.\")\n",
    "\n",
    "# Question 2\n",
    "print(\"\\nQuestion 2: Who has the highest individual score in a single ODI inning?\")\n",
    "choices2 = [\n",
    "    \"1: Virat Kohli\",\n",
    "    \"2: Rohit Sharma\",\n",
    "    \"3: AB de Villiers\",\n",
    "    \"4: Brian Lara\"\n",
    "]\n",
    "correct_answer2 = 2  # Rohit Sharma\n",
    "for choice in choices2:\n",
    "    print(choice)\n",
    "user_choice2 = int(input(\"Enter the number corresponding to your choice: \"))\n",
    "if user_choice2 == correct_answer2:\n",
    "    print(\"Correct! Rohit Sharma holds the record.\")\n",
    "    score += 1\n",
    "else:\n",
    "    print(\"Wrong answer. The correct answer is Rohit Sharma.\")\n",
    "\n",
    "# Display the final score\n",
    "print(f\"\\nQuiz completed! Your score is: {score}/2\")\n"
   ]
  },
  {
   "cell_type": "markdown",
   "id": "a161385b",
   "metadata": {},
   "source": [
    "27. Develop a program that determines whether a given year is a prime number or not."
   ]
  },
  {
   "cell_type": "code",
   "execution_count": 4,
   "id": "75949925",
   "metadata": {},
   "outputs": [
    {
     "name": "stdout",
     "output_type": "stream",
     "text": [
      "enter the year: 1988\n",
      "1988 is not a prime number\n"
     ]
    }
   ],
   "source": [
    "year = int(input(\"enter the year: \"))\n",
    "is_prime = True\n",
    "\n",
    "for i in range(2,int(year**0.5)+1):\n",
    "    if(year%i == 0):\n",
    "        is_prime = False\n",
    "        break\n",
    "        \n",
    "if is_prime:\n",
    "    print(f\"{year} is a prime number\")\n",
    "else:\n",
    "    print(f\"{year} is not a prime number\")\n",
    "    \n",
    "    "
   ]
  },
  {
   "cell_type": "markdown",
   "id": "0cac83b5",
   "metadata": {},
   "source": [
    "28. Create a program that sorts three numbers in ascending order using conditional statements."
   ]
  },
  {
   "cell_type": "code",
   "execution_count": 7,
   "id": "a3657377",
   "metadata": {},
   "outputs": [
    {
     "name": "stdout",
     "output_type": "stream",
     "text": [
      "Enter number 1: 85\n",
      "Enter number 2: 42\n",
      "Enter number 3: 1001\n",
      "The numbers in ascending order are: 42, 85, 1001\n"
     ]
    }
   ],
   "source": [
    "num1 = int(input(\"Enter number 1: \"))\n",
    "num2 = int(input(\"Enter number 2: \"))\n",
    "num3 = int(input(\"Enter number 3: \"))\n",
    "\n",
    "if num1 <= num2 <= num3:\n",
    "    print(f\"The numbers in ascending order are: {num1}, {num2}, {num3}\")\n",
    "elif num1 <= num3 <= num2:\n",
    "    print(f\"The numbers in ascending order are: {num1}, {num3}, {num2}\")\n",
    "elif num2 <= num1 <= num3:\n",
    "    print(f\"The numbers in ascending order are: {num2}, {num1}, {num3}\")\n",
    "elif num2 <= num3 <= num1:\n",
    "    print(f\"The numbers in ascending order are: {num2}, {num3}, {num1}\")\n",
    "elif num3 <= num1 <= num2:\n",
    "    print(f\"The numbers in ascending order are: {num3}, {num1}, {num2}\")\n",
    "else:\n",
    "    print(f\"The numbers in ascending order are: {num3}, {num2}, {num1}\")\n",
    "\n",
    "\n",
    "    "
   ]
  },
  {
   "cell_type": "markdown",
   "id": "061f8e1a",
   "metadata": {},
   "source": [
    "29. Build a program that determines the roots of a quartic equation using numerical methods."
   ]
  },
  {
   "cell_type": "code",
   "execution_count": 8,
   "id": "9bd98fe1",
   "metadata": {},
   "outputs": [
    {
     "name": "stdout",
     "output_type": "stream",
     "text": [
      "Roots of the quartic equation:\n",
      "Root: 0.381966011250105\n",
      "Root: 0.267949192431123\n",
      "Root: 3.73205080756888\n",
      "Root: 2.61803398874989\n"
     ]
    }
   ],
   "source": [
    "import sympy as sp\n",
    "\n",
    "# Define the symbolic variable\n",
    "x = sp.Symbol('x')\n",
    "\n",
    "# Define the quartic equation\n",
    "equation = x**4 - 7*x**3 + 14*x**2 - 7*x + 1\n",
    "\n",
    "# Use the Newton-Raphson method to find the roots\n",
    "roots = sp.solve(equation, x)\n",
    "\n",
    "# Print the roots\n",
    "print(\"Roots of the quartic equation:\")\n",
    "for root in roots:\n",
    "    print(f\"Root: {root.evalf()}\")\n"
   ]
  },
  {
   "cell_type": "markdown",
   "id": "ad9585b2",
   "metadata": {},
   "source": [
    "30. Write a program that calculates the BMI (Body Mass Index) and provides health recommendations based\n",
    "on the user's input."
   ]
  },
  {
   "cell_type": "code",
   "execution_count": 13,
   "id": "ec9035d7",
   "metadata": {},
   "outputs": [
    {
     "name": "stdout",
     "output_type": "stream",
     "text": [
      "Enter your weight (in kg): 70\n",
      "Enter your height (in meters): 1.75\n",
      "Your BMI is 22.86\n",
      "You have a normal weight. Maintain your weight for a healthy lifestyle.\n"
     ]
    }
   ],
   "source": [
    "weight = float(input(\"Enter your weight (in kg): \"))\n",
    "height = float(input(\"Enter your height (in meters): \"))\n",
    "BMI = weight / (height ** 2)\n",
    "print(f\"Your BMI is {BMI:.2f}\")\n",
    "\n",
    "if BMI < 18.5:\n",
    "    print(\"You are underweight. Consider increasing your calorie intake to gain weight.\")\n",
    "elif 18.5 <= BMI <= 24.9:\n",
    "    print(\"You have a normal weight. Maintain your weight for a healthy lifestyle.\")\n",
    "elif 25 <= BMI <= 29.9:\n",
    "    print(\"You are overweight. Consider exercising more and watching your diet to lose weight.\")\n",
    "elif 30 <= BMI <= 34.9:\n",
    "    print(\"You have obesity. Take steps to control your weight through diet and exercise.\")\n",
    "elif BMI >= 35:\n",
    "    print(\"You have extreme obesity. Seek medical advice and make significant lifestyle changes.\")\n"
   ]
  },
  {
   "cell_type": "markdown",
   "id": "ec5ecf34",
   "metadata": {},
   "source": [
    "31. Create a program that validates a password based on complexity rules (length, characters, etc.)."
   ]
  },
  {
   "cell_type": "code",
   "execution_count": 7,
   "id": "e8db2902",
   "metadata": {},
   "outputs": [
    {
     "name": "stdout",
     "output_type": "stream",
     "text": [
      "'ValidP@ssw0rd' is a valid password.\n",
      "'12345Aa@' is a valid password.\n",
      "'Secure!23' is a valid password.\n",
      "'Abcdefg1' is an invalid password.\n",
      "'Short1!' is an invalid password.\n"
     ]
    }
   ],
   "source": [
    "def is_valid_password(password):\n",
    "    # Check length\n",
    "    if len(password) < 8:\n",
    "        return False\n",
    "\n",
    "    # Initialize character type flags\n",
    "    has_upper = False\n",
    "    has_lower = False\n",
    "    has_digit = False\n",
    "    has_special = False\n",
    "\n",
    "    # Define a set of special characters\n",
    "    special_characters = set(\"!@#$%^&*(),.?\\\":{}|<>\")\n",
    "\n",
    "    # Iterate through each character in the password\n",
    "    for char in password:\n",
    "        if char.isupper():\n",
    "            has_upper = True\n",
    "        elif char.islower():\n",
    "            has_lower = True\n",
    "        elif char.isdigit():\n",
    "            has_digit = True\n",
    "        elif char in special_characters:\n",
    "            has_special = True\n",
    "\n",
    "    # Check if all required character types are present\n",
    "    return has_upper and has_lower and has_digit and has_special\n",
    "\n",
    "# Test the program\n",
    "if __name__ == \"__main__\":\n",
    "    password_examples = [\n",
    "        \"ValidP@ssw0rd\",\n",
    "        \"12345Aa@\",\n",
    "        \"Secure!23\",\n",
    "        \"Abcdefg1\",\n",
    "        \"Short1!\",\n",
    "    ]\n",
    "\n",
    "    for password in password_examples:\n",
    "        if is_valid_password(password):\n",
    "            print(f\"'{password}' is a valid password.\")\n",
    "        else:\n",
    "            print(f\"'{password}' is an invalid password.\")\n"
   ]
  },
  {
   "cell_type": "markdown",
   "id": "d41aef58",
   "metadata": {},
   "source": [
    "32. Develop a program that performs matrix addition and subtraction based on user input."
   ]
  },
  {
   "cell_type": "code",
   "execution_count": 10,
   "id": "436979b5",
   "metadata": {},
   "outputs": [
    {
     "name": "stdout",
     "output_type": "stream",
     "text": [
      "Enter the first matrix:\n",
      "Enter the number of rows: 3\n",
      "Enter the number of columns: 3\n",
      "Enter the elements of the first matrix row by row:\n",
      "Enter element at row 1, column 1: 1\n",
      "Enter element at row 1, column 2: 2\n",
      "Enter element at row 1, column 3: 3\n",
      "Enter element at row 2, column 1: 4\n",
      "Enter element at row 2, column 2: 5\n",
      "Enter element at row 2, column 3: 6\n",
      "Enter element at row 3, column 1: 7\n",
      "Enter element at row 3, column 2: 8\n",
      "Enter element at row 3, column 3: 9\n",
      "\n",
      "Enter the second matrix:\n",
      "Enter the elements of the second matrix with 3 rows and 3 columns:\n",
      "Enter element at row 1, column 1: 7\n",
      "Enter element at row 1, column 2: 8\n",
      "Enter element at row 1, column 3: 9\n",
      "Enter element at row 2, column 1: 4\n",
      "Enter element at row 2, column 2: 5\n",
      "Enter element at row 2, column 3: 6\n",
      "Enter element at row 3, column 1: 1\n",
      "Enter element at row 3, column 2: 2\n",
      "Enter element at row 3, column 3: 3\n",
      "\n",
      "Matrix Addition (Matrix1 + Matrix2):\n",
      "8.0 10.0 12.0\n",
      "8.0 10.0 12.0\n",
      "8.0 10.0 12.0\n",
      "\n",
      "Matrix Subtraction (Matrix1 - Matrix2):\n",
      "-6.0 -6.0 -6.0\n",
      "0.0 0.0 0.0\n",
      "6.0 6.0 6.0\n"
     ]
    }
   ],
   "source": [
    "# Input matrices\n",
    "matrix1 = []\n",
    "matrix2 = []\n",
    "\n",
    "# Input matrix 1\n",
    "print(\"Enter the first matrix:\")\n",
    "rows = int(input(\"Enter the number of rows: \"))\n",
    "cols = int(input(\"Enter the number of columns: \"))\n",
    "\n",
    "print(\"Enter the elements of the first matrix row by row:\")\n",
    "for i in range(rows):\n",
    "    row = []\n",
    "    for j in range(cols):\n",
    "        element = float(input(f\"Enter element at row {i + 1}, column {j + 1}: \"))\n",
    "        row.append(element)\n",
    "    matrix1.append(row)\n",
    "\n",
    "# Input matrix 2\n",
    "print(\"\\nEnter the second matrix:\")\n",
    "print(f\"Enter the elements of the second matrix with {rows} rows and {cols} columns:\")\n",
    "for i in range(rows):\n",
    "    row = []\n",
    "    for j in range(cols):\n",
    "        element = float(input(f\"Enter element at row {i + 1}, column {j + 1}: \"))\n",
    "        row.append(element)\n",
    "    matrix2.append(row)\n",
    "\n",
    "# Matrix addition\n",
    "sum_matrix = [[matrix1[i][j] + matrix2[i][j] for j in range(cols)] for i in range(rows)]\n",
    "\n",
    "# Matrix subtraction\n",
    "difference_matrix = [[matrix1[i][j] - matrix2[i][j] for j in range(cols)] for i in range(rows)]\n",
    "\n",
    "# Display results\n",
    "print(\"\\nMatrix Addition (Matrix1 + Matrix2):\")\n",
    "for row in sum_matrix:\n",
    "    print(\" \".join(map(str, row)))\n",
    "\n",
    "print(\"\\nMatrix Subtraction (Matrix1 - Matrix2):\")\n",
    "for row in difference_matrix:\n",
    "    print(\" \".join(map(str, row)))\n",
    "#for example we have taken two matrix here\n",
    "#matrix1 = [\n",
    "#[1,2,3],\n",
    "#[4,5,6],\n",
    "#[7,8,9]\n",
    "#]\n",
    "#matrix2 = [\n",
    "#[7,8,9],\n",
    "#[4,5,6],\n",
    "#[1,2,3]\n",
    "#]"
   ]
  },
  {
   "cell_type": "markdown",
   "id": "501ee301",
   "metadata": {},
   "source": [
    "33. Write a program that calculates the greatest common divisor (GCD) of two numbers using the Euclidean\n",
    "algorithm."
   ]
  },
  {
   "cell_type": "code",
   "execution_count": 1,
   "id": "21c25812",
   "metadata": {},
   "outputs": [
    {
     "name": "stdout",
     "output_type": "stream",
     "text": [
      "Enter the first number: 5\n",
      "Enter the second number: 25\n",
      "The Greatest Common Divisor (GCD) is 5\n"
     ]
    }
   ],
   "source": [
    "num1 = int(input(\"Enter the first number: \"))\n",
    "num2 = int(input(\"Enter the second number: \"))\n",
    "#while loop is used here and that is stopping condition.\n",
    "#initially remainder will be calculated and num1 and num2 values will be changed.\n",
    "while num2 != 0:\n",
    "    remainder = num1 % num2\n",
    "    num1 = num2\n",
    "    num2 = remainder\n",
    "\n",
    "gcd = num1\n",
    "print(f\"The Greatest Common Divisor (GCD) is {gcd}\")\n",
    "\n",
    "\n",
    "               "
   ]
  },
  {
   "cell_type": "markdown",
   "id": "43ab41e5",
   "metadata": {},
   "source": [
    "34. Build a program that performs matrix multiplication using nested loops and conditional statements."
   ]
  },
  {
   "cell_type": "code",
   "execution_count": 2,
   "id": "0ea77dcc",
   "metadata": {},
   "outputs": [
    {
     "name": "stdout",
     "output_type": "stream",
     "text": [
      "Matrix Multiplication Result:\n",
      "[58, 64]\n",
      "[139, 154]\n"
     ]
    }
   ],
   "source": [
    "# Input matrices\n",
    "matrix1 = [\n",
    "    [1, 2, 3],\n",
    "    [4, 5, 6],\n",
    "]\n",
    "\n",
    "matrix2 = [\n",
    "    [7, 8],\n",
    "    [9, 10],\n",
    "    [11, 12],\n",
    "]\n",
    "\n",
    "# Check if matrices can be multiplied\n",
    "if len(matrix1[0]) != len(matrix2):\n",
    "    print(\"Matrices cannot be multiplied. The number of columns in the first matrix must be equal to the number of rows in the second matrix.\")\n",
    "else:\n",
    "    # Initialize the result matrix with zeros\n",
    "    result_matrix = [[0 for _ in range(len(matrix2[0]))] for _ in range(len(matrix1))]\n",
    "\n",
    "    # Perform matrix multiplication\n",
    "    for i in range(len(matrix1)):\n",
    "        for j in range(len(matrix2[0])):\n",
    "            for k in range(len(matrix2)):\n",
    "                result_matrix[i][j] += matrix1[i][k] * matrix2[k][j]\n",
    "\n",
    "    # Display the result\n",
    "    print(\"Matrix Multiplication Result:\")\n",
    "    for row in result_matrix:\n",
    "        print(row)\n"
   ]
  },
  {
   "cell_type": "markdown",
   "id": "141a6c2c",
   "metadata": {},
   "source": [
    "35. Create a program that simulates a basic text-based tic-tac-toe game against the computer."
   ]
  },
  {
   "cell_type": "code",
   "execution_count": 3,
   "id": "766a8333",
   "metadata": {},
   "outputs": [
    {
     "name": "stdout",
     "output_type": "stream",
     "text": [
      "   |   |   \n",
      "---+---+---\n",
      "   |   |   \n",
      "---+---+---\n",
      "   |   |   \n",
      "Enter your move (1-9): 2\n",
      "   | X |   \n",
      "---+---+---\n",
      "   |   |   \n",
      "---+---+---\n",
      "   |   |   \n",
      "Computer's turn:\n",
      "   | X |   \n",
      "---+---+---\n",
      "   |   |   \n",
      "---+---+---\n",
      " O |   |   \n",
      "Enter your move (1-9): 4\n",
      "   | X |   \n",
      "---+---+---\n",
      " X |   |   \n",
      "---+---+---\n",
      " O |   |   \n",
      "Computer's turn:\n",
      "   | X |   \n",
      "---+---+---\n",
      " X |   |   \n",
      "---+---+---\n",
      " O |   | O \n",
      "Enter your move (1-9): 3\n",
      "   | X | X \n",
      "---+---+---\n",
      " X |   |   \n",
      "---+---+---\n",
      " O |   | O \n",
      "Computer's turn:\n",
      "   | X | X \n",
      "---+---+---\n",
      " X |   |   \n",
      "---+---+---\n",
      " O | O | O \n",
      "O wins!\n"
     ]
    }
   ],
   "source": [
    "import random\n",
    "\n",
    "# Initialize the board\n",
    "board = [\" \" for _ in range(9)]\n",
    "\n",
    "# Function to print the Tic-Tac-Toe board\n",
    "def print_board(board):\n",
    "    print(f\" {board[0]} | {board[1]} | {board[2]} \")\n",
    "    print(\"---+---+---\")\n",
    "    print(f\" {board[3]} | {board[4]} | {board[5]} \")\n",
    "    print(\"---+---+---\")\n",
    "    print(f\" {board[6]} | {board[7]} | {board[8]} \")\n",
    "\n",
    "# Function to check for a win\n",
    "def check_win(board, player):\n",
    "    winning_combinations = [\n",
    "        [0, 1, 2], [3, 4, 5], [6, 7, 8],  # Rows\n",
    "        [0, 3, 6], [1, 4, 7], [2, 5, 8],  # Columns\n",
    "        [0, 4, 8], [2, 4, 6]              # Diagonals\n",
    "    ]\n",
    "    for combo in winning_combinations:\n",
    "        if all(board[i] == player for i in combo):\n",
    "            return True\n",
    "    return False\n",
    "\n",
    "# Function for the computer's move\n",
    "def computer_move(board):\n",
    "    available_moves = [i for i, cell in enumerate(board) if cell == \" \"]\n",
    "    return random.choice(available_moves)\n",
    "\n",
    "# Main game loop\n",
    "current_player = \"X\"\n",
    "while True:\n",
    "    print_board(board)\n",
    "\n",
    "    if current_player == \"X\":\n",
    "        player_move = int(input(\"Enter your move (1-9): \")) - 1\n",
    "        if player_move < 0 or player_move >= 9 or board[player_move] != \" \":\n",
    "            print(\"Invalid move. Try again.\")\n",
    "            continue\n",
    "        board[player_move] = \"X\"\n",
    "    else:\n",
    "        print(\"Computer's turn:\")\n",
    "        computer_move_idx = computer_move(board)\n",
    "        board[computer_move_idx] = \"O\"\n",
    "\n",
    "    if check_win(board, current_player):\n",
    "        print_board(board)\n",
    "        print(f\"{current_player} wins!\")\n",
    "        break\n",
    "\n",
    "    if \" \" not in board:\n",
    "        print_board(board)\n",
    "        print(\"It's a tie!\")\n",
    "        break\n",
    "\n",
    "    current_player = \"O\" if current_player == \"X\" else \"X\"\n"
   ]
  },
  {
   "cell_type": "markdown",
   "id": "161b4b1a",
   "metadata": {},
   "source": [
    "36. Write a program that generates Fibonacci numbers up to a specified term using iterative methods."
   ]
  },
  {
   "cell_type": "code",
   "execution_count": 12,
   "id": "43cba262",
   "metadata": {},
   "outputs": [
    {
     "name": "stdout",
     "output_type": "stream",
     "text": [
      "Enter the number of Fibonacci terms to generate: 5\n",
      "Fibonacci series up to 5 terms:\n",
      "0 1 1 2 3 \n",
      "Fibonacci series: [0, 1, 1, 2, 3]\n"
     ]
    }
   ],
   "source": [
    "n = int(input(\"Enter the number of Fibonacci terms to generate: \"))\n",
    "\n",
    "if n <= 0:\n",
    "    print(\"Please enter a positive integer.\")\n",
    "else:\n",
    "    a, b = 0, 1\n",
    "    count = 0\n",
    "    fibonacci_series = []\n",
    "\n",
    "    print(\"Fibonacci series up to\", n, \"terms:\")\n",
    "\n",
    "    while count < n:\n",
    "        print(a, end=\" \")  # Print the current Fibonacci term\n",
    "        fibonacci_series.append(a)\n",
    "        a, b = b, a + b\n",
    "        count += 1\n",
    "\n",
    "    print()  # Print a newline to separate the series from the additional output\n",
    "\n",
    "    # Optionally, we can print the entire series as well:\n",
    "    print(f\"Fibonacci series: {fibonacci_series}\")\n"
   ]
  },
  {
   "cell_type": "markdown",
   "id": "5fd1dfcf",
   "metadata": {},
   "source": [
    "37. Develop a program that calculates the nth term of the Fibonacci sequence using memoization."
   ]
  },
  {
   "cell_type": "code",
   "execution_count": 14,
   "id": "7f5fc576",
   "metadata": {},
   "outputs": [
    {
     "name": "stdout",
     "output_type": "stream",
     "text": [
      "Enter the value of n for the nth Fibonacci term: 8\n",
      "The 8th Fibonacci term is: 21\n"
     ]
    }
   ],
   "source": [
    "# Input the value of n\n",
    "n = int(input(\"Enter the value of n for the nth Fibonacci term: \"))\n",
    "\n",
    "if n < 0:\n",
    "    print(\"Please enter a non-negative integer.\")\n",
    "else:\n",
    "    # Initialize the first two Fibonacci numbers\n",
    "    a, b = 0, 1\n",
    "\n",
    "    # Calculate the nth Fibonacci term\n",
    "    if n == 0:\n",
    "        nth_term = a\n",
    "    elif n == 1:\n",
    "        nth_term = b\n",
    "    else:\n",
    "        for _ in range(2, n + 1):\n",
    "            nth_term = a + b\n",
    "            a, b = b, nth_term\n",
    "\n",
    "    print(f\"The {n}th Fibonacci term is: {nth_term}\")\n"
   ]
  },
  {
   "cell_type": "markdown",
   "id": "221b7230",
   "metadata": {},
   "source": [
    "38. Create a program that generates a calendar for a given month and year using conditional statements."
   ]
  },
  {
   "cell_type": "code",
   "execution_count": 16,
   "id": "41a1616f",
   "metadata": {},
   "outputs": [
    {
     "name": "stdout",
     "output_type": "stream",
     "text": [
      "Enter the year (e.g., 2023): 2023\n",
      "Enter the month (1-12): 7\n",
      "\n",
      "Calendar:\n",
      "     July 2023\n",
      "Mo Tu We Th Fr Sa Su\n",
      "                1  2\n",
      " 3  4  5  6  7  8  9\n",
      "10 11 12 13 14 15 16\n",
      "17 18 19 20 21 22 23\n",
      "24 25 26 27 28 29 30\n",
      "31\n",
      "\n"
     ]
    }
   ],
   "source": [
    "#we can do it simply by using calendar library in python\n",
    "#we can also do it by other methods but as it has not been mentioned in question to solve using any specefic method we used this method\n",
    "import calendar\n",
    "\n",
    "# Input month and year\n",
    "year = int(input(\"Enter the year (e.g., 2023): \"))\n",
    "month = int(input(\"Enter the month (1-12): \"))\n",
    "\n",
    "# Validate input\n",
    "if month < 1 or month > 12:\n",
    "    print(\"Invalid month. Please enter a number between 1 and 12.\")\n",
    "else:\n",
    "    # Generate and print the calendar\n",
    "    cal = calendar.month(year, month)\n",
    "    print(\"\\nCalendar:\")\n",
    "    print(cal)\n"
   ]
  },
  {
   "cell_type": "markdown",
   "id": "b1da0f06",
   "metadata": {},
   "source": [
    "39. Build a program that simulates a basic text-based blackjack game against the computer."
   ]
  },
  {
   "cell_type": "code",
   "execution_count": 17,
   "id": "ff768aa8",
   "metadata": {},
   "outputs": [
    {
     "name": "stdout",
     "output_type": "stream",
     "text": [
      "\n",
      "Player's Hand:\n",
      "Seven of Hearts\n",
      "Nine of Clubs\n",
      "\n",
      "Dealer's Upcard: Nine of Diamonds\n",
      "\n",
      "Do you want to 'hit' or 'stand'? hit\n",
      "\n",
      "Player's Hand:\n",
      "Seven of Hearts\n",
      "Nine of Clubs\n",
      "Six of Clubs\n",
      "\n",
      "Dealer's Upcard: Nine of Diamonds\n",
      "Player busts. Dealer wins.\n",
      "\n",
      "Do you want to play again? (yes/no): no\n",
      "Thanks for playing! Goodbye!\n"
     ]
    }
   ],
   "source": [
    "import random\n",
    "\n",
    "# Initialize the deck of cards\n",
    "suits = ['Hearts', 'Diamonds', 'Clubs', 'Spades']\n",
    "ranks = ['Two', 'Three', 'Four', 'Five', 'Six', 'Seven', 'Eight', 'Nine', 'Ten', 'Jack', 'Queen', 'King', 'Ace']\n",
    "values = {'Two': 2, 'Three': 3, 'Four': 4, 'Five': 5, 'Six': 6, 'Seven': 7, 'Eight': 8, 'Nine': 9, 'Ten': 10,\n",
    "          'Jack': 10, 'Queen': 10, 'King': 10, 'Ace': 11}\n",
    "\n",
    "deck = [{'rank': rank, 'suit': suit} for rank in ranks for suit in suits]\n",
    "\n",
    "# Function to calculate the total value of a hand\n",
    "def calculate_hand_value(hand):\n",
    "    total_value = sum(values[card['rank']] for card in hand)\n",
    "    num_aces = sum(1 for card in hand if card['rank'] == 'Ace')\n",
    "\n",
    "    # Handle Aces as 1 or 11\n",
    "    while total_value > 21 and num_aces > 0:\n",
    "        total_value -= 10\n",
    "        num_aces -= 1\n",
    "\n",
    "    return total_value\n",
    "\n",
    "# Function to deal a card from the deck\n",
    "def deal_card():\n",
    "    return deck.pop(random.randint(0, len(deck) - 1))\n",
    "\n",
    "# Initialize player and dealer hands\n",
    "player_hand = [deal_card(), deal_card()]\n",
    "dealer_hand = [deal_card(), deal_card()]\n",
    "\n",
    "while True:\n",
    "    # Display player's hand and the dealer's upcard\n",
    "    print(\"\\nPlayer's Hand:\")\n",
    "    for card in player_hand:\n",
    "        print(f\"{card['rank']} of {card['suit']}\")\n",
    "    print(f\"\\nDealer's Upcard: {dealer_hand[0]['rank']} of {dealer_hand[0]['suit']}\")\n",
    "\n",
    "    # Check if player has blackjack or busts\n",
    "    player_value = calculate_hand_value(player_hand)\n",
    "    if player_value == 21:\n",
    "        print(\"Player has a Blackjack! You win!\")\n",
    "        break\n",
    "    elif player_value > 21:\n",
    "        print(\"Player busts. Dealer wins.\")\n",
    "        break\n",
    "\n",
    "    # Ask the player to hit or stand\n",
    "    while True:\n",
    "        action = input(\"\\nDo you want to 'hit' or 'stand'? \").lower()\n",
    "        if action in ['hit', 'stand']:\n",
    "            break\n",
    "\n",
    "    # Deal a card to the player if they choose to hit\n",
    "    if action == 'hit':\n",
    "        player_hand.append(deal_card())\n",
    "    else:\n",
    "        # Dealer's turn\n",
    "        while calculate_hand_value(dealer_hand) < 17:\n",
    "            dealer_hand.append(deal_card())\n",
    "\n",
    "        # Display dealer's hand\n",
    "        print(\"\\nDealer's Hand:\")\n",
    "        for card in dealer_hand:\n",
    "            print(f\"{card['rank']} of {card['suit']}\")\n",
    "\n",
    "        # Determine the winner\n",
    "        dealer_value = calculate_hand_value(dealer_hand)\n",
    "        if dealer_value > 21:\n",
    "            print(\"Dealer busts. Player wins!\")\n",
    "        elif dealer_value > player_value:\n",
    "            print(\"Dealer wins.\")\n",
    "        elif dealer_value < player_value:\n",
    "            print(\"Player wins!\")\n",
    "        else:\n",
    "            print(\"It's a tie!\")\n",
    "\n",
    "        break\n",
    "\n",
    "    # Check if the deck is empty and reshuffle if necessary\n",
    "    if not deck:\n",
    "        deck = [{'rank': rank, 'suit': suit} for rank in ranks for suit in suits]\n",
    "\n",
    "# Ask the player if they want to play again\n",
    "play_again = input(\"\\nDo you want to play again? (yes/no): \").lower()\n",
    "if play_again != 'yes':\n",
    "    print(\"Thanks for playing! Goodbye!\")\n"
   ]
  },
  {
   "cell_type": "markdown",
   "id": "d91695a4",
   "metadata": {},
   "source": [
    "40. Write a program that generates the prime factors of a given number using trial division."
   ]
  },
  {
   "cell_type": "code",
   "execution_count": 19,
   "id": "8c06dc83",
   "metadata": {},
   "outputs": [
    {
     "name": "stdout",
     "output_type": "stream",
     "text": [
      "Enter a number: 12\n",
      "Prime factors of 3 are: [2, 2, 3]\n"
     ]
    }
   ],
   "source": [
    "# Input from the user\n",
    "num = int(input(\"Enter a number: \"))\n",
    "\n",
    "if num < 2:\n",
    "    print(\"Prime factors are not defined for numbers less than 2.\")\n",
    "else:\n",
    "    factors = []\n",
    "\n",
    "    # Divide n by 2 until it's odd\n",
    "    while num % 2 == 0:\n",
    "        factors.append(2)\n",
    "        num //= 2\n",
    "\n",
    "    # Divide num by odd numbers starting from 3\n",
    "    for i in range(3, int(num**0.5) + 1, 2):\n",
    "        while num % i == 0:\n",
    "            factors.append(i)\n",
    "            num //= i\n",
    "\n",
    "    # If num is still greater than 1, it's a prime number itself\n",
    "    if num > 1:\n",
    "        factors.append(num)\n",
    "\n",
    "    print(f\"Prime factors of {num} are: {factors}\")\n"
   ]
  }
 ],
 "metadata": {
  "kernelspec": {
   "display_name": "Python 3 (ipykernel)",
   "language": "python",
   "name": "python3"
  },
  "language_info": {
   "codemirror_mode": {
    "name": "ipython",
    "version": 3
   },
   "file_extension": ".py",
   "mimetype": "text/x-python",
   "name": "python",
   "nbconvert_exporter": "python",
   "pygments_lexer": "ipython3",
   "version": "3.9.13"
  }
 },
 "nbformat": 4,
 "nbformat_minor": 5
}
